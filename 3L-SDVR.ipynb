{
 "cells": [
  {
   "cell_type": "code",
   "execution_count": null,
   "metadata": {},
   "outputs": [],
   "source": [
    "# Creating a route planner for a road network"
   ]
  },
  {
   "cell_type": "code",
   "execution_count": 3,
   "metadata": {},
   "outputs": [],
   "source": [
    "import io\n",
    "import zipfile\n",
    "import requests\n",
    "import networkx as nx\n",
    "import numpy as np\n",
    "import pandas as pd\n"
   ]
  },
  {
   "cell_type": "code",
   "execution_count": 1,
   "metadata": {
    "tags": []
   },
   "outputs": [
    {
     "output_type": "execute_result",
     "data": {
      "text/plain": "<module 'tensorflow_probability.python.distributions' from 'C:\\\\Program Files\\\\Python37\\\\lib\\\\site-packages\\\\tensorflow_probability\\\\python\\\\distributions\\\\__init__.py'>"
     },
     "metadata": {},
     "execution_count": 1
    }
   ],
   "source": [
    "##################################################\n",
    "# function: dirichletSampler\n",
    "# Creates transition matrix with sampling uncertainty\n",
    "# input: matrix of raw transition counts\n",
    "# output: matrix of transition probabilities sampled from a Dirichlet for each column\n",
    "# note: add 1 to each matrix element for proper interpretation\n",
    "# of rdirichlet paramaters as param = number of successes + 1\n",
    "#------------------------------------------------- \n",
    "import tensorflow\n",
    "import tensorflow_probability as tfp\n",
    "tfd = tfp.distributions\n",
    "tfd\n",
    "# x = np.random.poisson(lam=5, size=(4,4))\n",
    "# dd = np.random.default_rng().dirichlet(x).transpose()\n",
    "# # # def dirichletSampler():\n",
    "# d = np.random.dirichlet((10, 6, 3), 10).transpose()\n",
    "\n",
    "# s = np.random.default_rng().dirichlet((10, 5, 3), 5).transpose()\n",
    "# s\n"
   ]
  },
  {
   "cell_type": "code",
   "execution_count": 24,
   "metadata": {
    "tags": []
   },
   "outputs": [
    {
     "output_type": "execute_result",
     "data": {
      "text/plain": "(59, 60, 24)"
     },
     "metadata": {},
     "execution_count": 24
    }
   ],
   "source": [
    "from container_packing.shortcuts import pack_products_into_restrictions\n",
    "\n",
    "\n",
    "boxes = [{\n",
    "  'x': 12,\n",
    "  'y': 13,\n",
    "  'z': 30,\n",
    "  'quantity': 2\n",
    "}, {\n",
    "  'x': 12,\n",
    "  'y': 23,\n",
    "  'z': 40,\n",
    "  'quantity': 4\n",
    "}]\n",
    "\n",
    "conataner_max_sizes = (60, 60, 90)\n",
    "\n",
    "container_x, container_y, container_z = pack_products_into_restrictions(\n",
    "    boxes,\n",
    "    conataner_max_sizes\n",
    ")\n"
   ]
  },
  {
   "cell_type": "code",
   "execution_count": 26,
   "metadata": {
    "tags": [
     "outputPrepend"
    ]
   },
   "outputs": [
    {
     "output_type": "stream",
     "name": "stdout",
     "text": " *args) -> 'operations_research::Constraint *'\n     |  \n     |  NullIntersect(self, first_vars: 'std::vector< operations_research::IntVar * > const &', second_vars: 'std::vector< operations_research::IntVar * > const &') -> 'operations_research::Constraint *'\n     |  \n     |  NullIntersectExcept(self, first_vars: 'std::vector< operations_research::IntVar * > const &', second_vars: 'std::vector< operations_research::IntVar * > const &', escape_value: 'int64') -> 'operations_research::Constraint *'\n     |  \n     |  Operator(self, *args) -> 'operations_research::LocalSearchOperator *'\n     |  \n     |  Optimize(self, maximize: 'bool', v: 'IntVar', step: 'int64') -> 'operations_research::OptimizeVar *'\n     |  \n     |  Pack(self, vars: 'std::vector< operations_research::IntVar * > const &', number_of_bins: 'int') -> 'operations_research::Pack *'\n     |  \n     |  Parameters(self) -> 'operations_research::ConstraintSolverParameters'\n     |  \n     |  PathCumul(self, *args) -> 'operations_research::Constraint *'\n     |  \n     |  Phase(self, *args) -> 'operations_research::DecisionBuilder *'\n     |  \n     |  PrintModelVisitor(self) -> 'operations_research::ModelVisitor *'\n     |  \n     |  Rand32(self, size: 'int32') -> 'int32'\n     |  \n     |  Rand64(self, size: 'int64') -> 'int64'\n     |  \n     |  RandomConcatenateOperators(self, *args) -> 'operations_research::LocalSearchOperator *'\n     |  \n     |  RandomLnsOperator(self, *args) -> 'operations_research::LocalSearchOperator *'\n     |  \n     |  RankFirstInterval(self, sequence: 'SequenceVar', index: 'int') -> 'operations_research::Decision *'\n     |  \n     |  RankLastInterval(self, sequence: 'SequenceVar', index: 'int') -> 'operations_research::Decision *'\n     |  \n     |  ReSeed(self, seed: 'int32') -> 'void'\n     |  \n     |  RestartCurrentSearch(self) -> 'void'\n     |  \n     |  RestartSearch(self) -> 'void'\n     |  \n     |  RestoreAssignment(self, assignment: 'Assignment') -> 'operations_research::DecisionBuilder *'\n     |  \n     |  ScalProd(self, *args) -> 'operations_research::IntExpr *'\n     |  \n     |  ScalProdEquality(self, *args) -> 'operations_research::Constraint *'\n     |  \n     |  ScalProdGreaterOrEqual(self, *args) -> 'operations_research::Constraint *'\n     |  \n     |  ScalProdLessOrEqual(self, *args) -> 'operations_research::Constraint *'\n     |  \n     |  ScheduleOrExpedite(self, var: 'IntervalVar', est: 'int64', marker: 'int64 *const') -> 'operations_research::Decision *'\n     |  \n     |  ScheduleOrPostpone(self, var: 'IntervalVar', est: 'int64', marker: 'int64 *const') -> 'operations_research::Decision *'\n     |  \n     |  SearchDepth(self) -> 'int'\n     |  \n     |  SearchLeftDepth(self) -> 'int'\n     |  \n     |  SearchLog(self, *args) -> 'operations_research::SearchMonitor *'\n     |  \n     |  SearchLogWithCallback(self, period: 'int', callback: 'std::function< std::string () >') -> 'operations_research::SearchMonitor *'\n     |  \n     |  SearchTrace(self, prefix: 'std::string const &') -> 'operations_research::SearchMonitor *'\n     |  \n     |  SemiContinuousExpr(self, expr: 'IntExpr', fixed_charge: 'int64', step: 'int64') -> 'operations_research::IntExpr *'\n     |  \n     |  ShouldFail(self) -> 'void'\n     |  \n     |  SimulatedAnnealing(self, maximize: 'bool', v: 'IntVar', step: 'int64', initial_temperature: 'int64') -> 'operations_research::SearchMonitor *'\n     |  \n     |  Solutions(self) -> 'int64'\n     |  \n     |  SolutionsLimit(self, solutions: 'int64') -> 'operations_research::RegularLimit *'\n     |  \n     |  Solve(self, *args) -> 'bool'\n     |  \n     |  SolveAndCommit(self, *args) -> 'bool'\n     |  \n     |  SolveDepth(self) -> 'int'\n     |  \n     |  SolveOnce(self, db: 'DecisionBuilder', monitors: 'std::vector< operations_research::SearchMonitor * > const &') -> 'operations_research::DecisionBuilder *'\n     |  \n     |  SortingConstraint(self, vars: 'std::vector< operations_research::IntVar * > const &', sorted: 'std::vector< operations_research::IntVar * > const &') -> 'operations_research::Constraint *'\n     |  \n     |  SplitVariableDomain(self, var: 'IntVar', val: 'int64', start_with_lower_half: 'bool') -> 'operations_research::Decision *'\n     |  \n     |  Stamp(self) -> 'uint64'\n     |  \n     |  StatisticsModelVisitor(self) -> 'operations_research::ModelVisitor *'\n     |  \n     |  StoreAssignment(self, assignment: 'Assignment') -> 'operations_research::DecisionBuilder *'\n     |  \n     |  SubCircuit(self, nexts: 'std::vector< operations_research::IntVar * > const &') -> 'operations_research::Constraint *'\n     |  \n     |  Sum(self, vars: 'std::vector< operations_research::IntVar * > const &') -> 'operations_research::IntExpr *'\n     |  \n     |  SumEquality(self, *args) -> 'operations_research::Constraint *'\n     |  \n     |  SumGreaterOrEqual(self, vars: 'std::vector< operations_research::IntVar * > const &', cst: 'int64') -> 'operations_research::Constraint *'\n     |  \n     |  SumLessOrEqual(self, vars: 'std::vector< operations_research::IntVar * > const &', cst: 'int64') -> 'operations_research::Constraint *'\n     |  \n     |  SumObjectiveFilter(self, vars: 'std::vector< operations_research::IntVar * > const &', values: 'operations_research::Solver::IndexEvaluator2', filter_enum: 'operations_research::Solver::LocalSearchFilterBound') -> 'operations_research::LocalSearchFilter *'\n     |  \n     |  TabuSearch(self, maximize: 'bool', v: 'IntVar', step: 'int64', vars: 'std::vector< operations_research::IntVar * > const &', keep_tenure: 'int64', forbid_tenure: 'int64', tabu_factor: 'double') -> 'operations_research::SearchMonitor *'\n     |  \n     |  TemporalDisjunction(self, *args) -> 'operations_research::Constraint *'\n     |  \n     |  TimeLimit(self, time_in_ms: 'int64') -> 'operations_research::RegularLimit *'\n     |  \n     |  TransitionConstraint(self, *args) -> 'operations_research::Constraint *'\n     |  \n     |  TreeNoCycle(self, nexts: 'std::vector< operations_research::IntVar * > const &', active: 'std::vector< operations_research::IntVar * > const &', callback: 'operations_research::Solver::IndexFilter1' = 0) -> 'operations_research::Constraint *'\n     |  \n     |  TrueConstraint(self) -> 'operations_research::Constraint *'\n     |  \n     |  Try(self, dbs: 'std::vector< operations_research::DecisionBuilder * > const &') -> 'operations_research::DecisionBuilder *'\n     |  \n     |  VarEvalValEvalPhase(self, vars: 'std::vector< operations_research::IntVar * > const &', var_eval: 'std::function< int64 (int64) >', val_eval: 'operations_research::Solver::IndexEvaluator2') -> 'operations_research::DecisionBuilder *'\n     |  \n     |  VarEvalValEvalTieBreakPhase(self, vars: 'std::vector< operations_research::IntVar * > const &', var_eval: 'std::function< int64 (int64) >', val_eval: 'operations_research::Solver::IndexEvaluator2', tie_breaker: 'std::function< int64 (int64) >') -> 'operations_research::DecisionBuilder *'\n     |  \n     |  VarEvalValStrPhase(self, vars: 'std::vector< operations_research::IntVar * > const &', var_evaluator: 'std::function< int64 (int64) >', val_str: 'operations_research::Solver::IntValueStrategy') -> 'operations_research::DecisionBuilder *'\n     |  \n     |  VarStrValEvalPhase(self, vars: 'std::vector< operations_research::IntVar * > const &', var_str: 'operations_research::Solver::IntVarStrategy', val_eval: 'operations_research::Solver::IndexEvaluator2') -> 'operations_research::DecisionBuilder *'\n     |  \n     |  VarStrValEvalTieBreakPhase(self, vars: 'std::vector< operations_research::IntVar * > const &', var_str: 'operations_research::Solver::IntVarStrategy', val_eval: 'operations_research::Solver::IndexEvaluator2', tie_breaker: 'std::function< int64 (int64) >') -> 'operations_research::DecisionBuilder *'\n     |  \n     |  VariableGreaterOrEqualValue(self, var: 'IntVar', value: 'int64') -> 'operations_research::Decision *'\n     |  \n     |  VariableLessOrEqualValue(self, var: 'IntVar', value: 'int64') -> 'operations_research::Decision *'\n     |  \n     |  WallTime(self) -> 'int64'\n     |  \n     |  WeightedMaximize(self, *args) -> 'operations_research::OptimizeVar *'\n     |  \n     |  WeightedMinimize(self, *args) -> 'operations_research::OptimizeVar *'\n     |  \n     |  WeightedOptimize(self, *args) -> 'operations_research::OptimizeVar *'\n     |  \n     |  __init__(self, *args)\n     |      Initialize self.  See help(type(self)) for accurate signature.\n     |  \n     |  __repr__ = _swig_repr(self)\n     |  \n     |  __str__(self) -> 'std::string'\n     |      Return str(self).\n     |  \n     |  ----------------------------------------------------------------------\n     |  Static methods defined here:\n     |  \n     |  DefaultSolverParameters() -> 'operations_research::ConstraintSolverParameters'\n     |  \n     |  MemoryUsage() -> 'int64'\n     |  \n     |  __swig_destroy__ = delete_Solver(...)\n     |  \n     |  ----------------------------------------------------------------------\n     |  Data descriptors defined here:\n     |  \n     |  __dict__\n     |      dictionary for instance variables (if defined)\n     |  \n     |  __weakref__\n     |      list of weak references to the object (if defined)\n     |  \n     |  thisown\n     |      The membership flag\n     |  \n     |  ----------------------------------------------------------------------\n     |  Data and other attributes defined here:\n     |  \n     |  ASSIGN_CENTER_VALUE = 5\n     |  \n     |  ASSIGN_MAX_VALUE = 3\n     |  \n     |  ASSIGN_MIN_VALUE = 2\n     |  \n     |  ASSIGN_RANDOM_VALUE = 4\n     |  \n     |  CHOOSE_FIRST_UNBOUND = 2\n     |  \n     |  CHOOSE_HIGHEST_MAX = 9\n     |  \n     |  CHOOSE_LOWEST_MIN = 8\n     |  \n     |  CHOOSE_MAX_REGRET_ON_MIN = 12\n     |  \n     |  CHOOSE_MAX_SIZE = 11\n     |  \n     |  CHOOSE_MIN_SIZE = 10\n     |  \n     |  CHOOSE_MIN_SIZE_HIGHEST_MAX = 7\n     |  \n     |  CHOOSE_MIN_SIZE_HIGHEST_MIN = 5\n     |  \n     |  CHOOSE_MIN_SIZE_LOWEST_MAX = 6\n     |  \n     |  CHOOSE_MIN_SIZE_LOWEST_MIN = 4\n     |  \n     |  CHOOSE_MIN_SLACK_RANK_FORWARD = 2\n     |  \n     |  CHOOSE_PATH = 13\n     |  \n     |  CHOOSE_RANDOM = 3\n     |  \n     |  CHOOSE_RANDOM_RANK_FORWARD = 3\n     |  \n     |  CROSS = 4\n     |  \n     |  DECREMENT = 14\n     |  \n     |  DELAYED_PRIORITY = 0\n     |  \n     |  EQ = 2\n     |  \n     |  EXCHANGE = 3\n     |  \n     |  EXTENDEDSWAPACTIVE = 9\n     |  \n     |  FULLPATHLNS = 11\n     |  \n     |  GE = 0\n     |  \n     |  INCREMENT = 13\n     |  \n     |  INTERVAL_DEFAULT = 0\n     |  \n     |  INTERVAL_SET_TIMES_BACKWARD = 3\n     |  \n     |  INTERVAL_SET_TIMES_FORWARD = 2\n     |  \n     |  INTERVAL_SIMPLE = 1\n     |  \n     |  INT_VALUE_DEFAULT = 0\n     |  \n     |  INT_VALUE_SIMPLE = 1\n     |  \n     |  INT_VAR_DEFAULT = 0\n     |  \n     |  INT_VAR_SIMPLE = 1\n     |  \n     |  LE = 1\n     |  \n     |  MAKEACTIVE = 5\n     |  \n     |  MAKECHAININACTIVE = 7\n     |  \n     |  MAKEINACTIVE = 6\n     |  \n     |  NORMAL_PRIORITY = 2\n     |  \n     |  OROPT = 1\n     |  \n     |  PATHLNS = 10\n     |  \n     |  RELOCATE = 2\n     |  \n     |  SEQUENCE_DEFAULT = 0\n     |  \n     |  SEQUENCE_SIMPLE = 1\n     |  \n     |  SIMPLELNS = 15\n     |  \n     |  SPLIT_LOWER_HALF = 6\n     |  \n     |  SPLIT_UPPER_HALF = 7\n     |  \n     |  SWAPACTIVE = 8\n     |  \n     |  TWOOPT = 0\n     |  \n     |  UNACTIVELNS = 12\n     |  \n     |  VAR_PRIORITY = 1\n    \n    class TypeIncompatibilityChecker(TypeRegulationsChecker)\n     |  TypeIncompatibilityChecker(model: 'RoutingModel', check_hard_incompatibilities: 'bool')\n     |  \n     |  Method resolution order:\n     |      TypeIncompatibilityChecker\n     |      TypeRegulationsChecker\n     |      builtins.object\n     |  \n     |  Methods defined here:\n     |  \n     |  __init__(self, model: 'RoutingModel', check_hard_incompatibilities: 'bool')\n     |      Initialize self.  See help(type(self)) for accurate signature.\n     |  \n     |  __repr__ = _swig_repr(self)\n     |  \n     |  ----------------------------------------------------------------------\n     |  Static methods defined here:\n     |  \n     |  __swig_destroy__ = delete_TypeIncompatibilityChecker(...)\n     |  \n     |  ----------------------------------------------------------------------\n     |  Data descriptors defined here:\n     |  \n     |  thisown\n     |      The membership flag\n     |  \n     |  ----------------------------------------------------------------------\n     |  Methods inherited from TypeRegulationsChecker:\n     |  \n     |  CheckVehicle(self, vehicle: 'int', next_accessor: 'std::function< int64 (int64) > const &') -> 'bool'\n     |  \n     |  ----------------------------------------------------------------------\n     |  Data descriptors inherited from TypeRegulationsChecker:\n     |  \n     |  __dict__\n     |      dictionary for instance variables (if defined)\n     |  \n     |  __weakref__\n     |      list of weak references to the object (if defined)\n    \n    class TypeRegulationsChecker(builtins.object)\n     |  TypeRegulationsChecker(*args, **kwargs)\n     |  \n     |  Methods defined here:\n     |  \n     |  CheckVehicle(self, vehicle: 'int', next_accessor: 'std::function< int64 (int64) > const &') -> 'bool'\n     |  \n     |  __init__(self, *args, **kwargs)\n     |      Initialize self.  See help(type(self)) for accurate signature.\n     |  \n     |  __repr__ = _swig_repr(self)\n     |  \n     |  ----------------------------------------------------------------------\n     |  Static methods defined here:\n     |  \n     |  __swig_destroy__ = delete_TypeRegulationsChecker(...)\n     |  \n     |  ----------------------------------------------------------------------\n     |  Data descriptors defined here:\n     |  \n     |  __dict__\n     |      dictionary for instance variables (if defined)\n     |  \n     |  __weakref__\n     |      list of weak references to the object (if defined)\n     |  \n     |  thisown\n     |      The membership flag\n    \n    class TypeRegulationsConstraint(Constraint)\n     |  TypeRegulationsConstraint(model: 'RoutingModel')\n     |  \n     |  Method resolution order:\n     |      TypeRegulationsConstraint\n     |      Constraint\n     |      PropagationBaseObject\n     |      BaseObject\n     |      builtins.object\n     |  \n     |  Methods defined here:\n     |  \n     |  InitialPropagateWrapper(self) -> 'void'\n     |  \n     |  Post(self) -> 'void'\n     |  \n     |  __init__(self, model: 'RoutingModel')\n     |      Initialize self.  See help(type(self)) for accurate signature.\n     |  \n     |  __repr__ = _swig_repr(self)\n     |  \n     |  ----------------------------------------------------------------------\n     |  Static methods defined here:\n     |  \n     |  __swig_destroy__ = delete_TypeRegulationsConstraint(...)\n     |  \n     |  ----------------------------------------------------------------------\n     |  Data descriptors defined here:\n     |  \n     |  thisown\n     |      The membership flag\n     |  \n     |  ----------------------------------------------------------------------\n     |  Methods inherited from Constraint:\n     |  \n     |  DebugString(self) -> 'std::string'\n     |  \n     |  IndexOf(self, *args) -> 'operations_research::IntExpr *'\n     |  \n     |  MapTo(self, vars: 'std::vector< operations_research::IntVar * > const &') -> 'operations_research::Constraint *'\n     |  \n     |  Square(self) -> 'operations_research::IntExpr *'\n     |  \n     |  Var(self) -> 'operations_research::IntVar *'\n     |  \n     |  __abs__(self) -> 'operations_research::IntExpr *'\n     |  \n     |  __add__(self, *args) -> 'operations_research::IntExpr *'\n     |  \n     |  __disown__(self)\n     |  \n     |  __eq__(self, *args) -> 'operations_research::Constraint *'\n     |      Return self==value.\n     |  \n     |  __floordiv__(self, v: 'int64') -> 'operations_research::IntExpr *'\n     |  \n     |  __ge__(self, *args) -> 'operations_research::Constraint *'\n     |      Return self>=value.\n     |  \n     |  __gt__(self, *args) -> 'operations_research::Constraint *'\n     |      Return self>value.\n     |  \n     |  __le__(self, *args) -> 'operations_research::Constraint *'\n     |      Return self<=value.\n     |  \n     |  __lt__(self, *args) -> 'operations_research::Constraint *'\n     |      Return self<value.\n     |  \n     |  __mul__(self, *args) -> 'operations_research::IntExpr *'\n     |  \n     |  __ne__(self, *args) -> 'operations_research::Constraint *'\n     |      Return self!=value.\n     |  \n     |  __neg__(self) -> 'operations_research::IntExpr *'\n     |  \n     |  __radd__(self, v: 'int64') -> 'operations_research::IntExpr *'\n     |  \n     |  __rmul__(self, v: 'int64') -> 'operations_research::IntExpr *'\n     |  \n     |  __rsub__(self, v: 'int64') -> 'operations_research::IntExpr *'\n     |  \n     |  __str__(self) -> 'std::string'\n     |      Return str(self).\n     |  \n     |  __sub__(self, *args) -> 'operations_research::IntExpr *'\n     |  \n     |  ----------------------------------------------------------------------\n     |  Data and other attributes inherited from Constraint:\n     |  \n     |  __hash__ = None\n     |  \n     |  ----------------------------------------------------------------------\n     |  Methods inherited from PropagationBaseObject:\n     |  \n     |  Name(self) -> 'std::string'\n     |  \n     |  solver(self) -> 'operations_research::Solver *'\n     |  \n     |  ----------------------------------------------------------------------\n     |  Data descriptors inherited from BaseObject:\n     |  \n     |  __dict__\n     |      dictionary for instance variables (if defined)\n     |  \n     |  __weakref__\n     |      list of weak references to the object (if defined)\n    \n    class TypeRequirementChecker(TypeRegulationsChecker)\n     |  TypeRequirementChecker(model: 'RoutingModel')\n     |  \n     |  Method resolution order:\n     |      TypeRequirementChecker\n     |      TypeRegulationsChecker\n     |      builtins.object\n     |  \n     |  Methods defined here:\n     |  \n     |  __init__(self, model: 'RoutingModel')\n     |      Initialize self.  See help(type(self)) for accurate signature.\n     |  \n     |  __repr__ = _swig_repr(self)\n     |  \n     |  ----------------------------------------------------------------------\n     |  Static methods defined here:\n     |  \n     |  __swig_destroy__ = delete_TypeRequirementChecker(...)\n     |  \n     |  ----------------------------------------------------------------------\n     |  Data descriptors defined here:\n     |  \n     |  thisown\n     |      The membership flag\n     |  \n     |  ----------------------------------------------------------------------\n     |  Methods inherited from TypeRegulationsChecker:\n     |  \n     |  CheckVehicle(self, vehicle: 'int', next_accessor: 'std::function< int64 (int64) > const &') -> 'bool'\n     |  \n     |  ----------------------------------------------------------------------\n     |  Data descriptors inherited from TypeRegulationsChecker:\n     |  \n     |  __dict__\n     |      dictionary for instance variables (if defined)\n     |  \n     |  __weakref__\n     |      list of weak references to the object (if defined)\n\nFUNCTIONS\n    DefaultRoutingModelParameters() -> 'operations_research::RoutingModelParameters'\n    \n    DefaultRoutingSearchParameters() -> 'operations_research::RoutingSearchParameters'\n    \n    FindErrorInRoutingSearchParameters(search_parameters: 'operations_research::RoutingSearchParameters const &') -> 'std::string'\n    \n    MakeSetValuesFromTargets(solver: 'Solver', variables: 'std::vector< operations_research::IntVar * >', targets: 'std::vector< int64 >') -> 'operations_research::DecisionBuilder *'\n    \n    SolveModelWithSat(model: 'RoutingModel', search_parameters: 'operations_research::RoutingSearchParameters const &', initial_solution: 'Assignment', solution: 'Assignment') -> 'bool'\n    \n    Solver_DefaultSolverParameters() -> 'operations_research::ConstraintSolverParameters'\n    \n    Solver_MemoryUsage() -> 'int64'\n    \n    __lshift__(*args) -> 'std::ostream &'\n\nDATA\n    BOOL_FALSE = 2\n    BOOL_TRUE = 3\n    BOOL_UNSPECIFIED = 0\n    cvar = <Swig global variables>\n\nFILE\n    c:\\program files\\python37\\lib\\site-packages\\ortools\\constraint_solver\\pywrapcp.py\n\n\n"
    }
   ],
   "source": [
    "from __future__ import print_function\n",
    "from ortools.constraint_solver import routing_enums_pb2\n",
    "from ortools.constraint_solver import pywrapcp\n",
    "def create_data_model():\n",
    "    \"\"\"Stores the data for the problem.\"\"\"\n",
    "    data = {}\n",
    "    data['distance_matrix'] = [\n",
    "        [\n",
    "            0, 548, 776, 696, 582, 274, 502, 194, 308, 194, 536, 502, 388, 354,\n",
    "            468, 776, 662\n",
    "        ],\n",
    "        [\n",
    "            548, 0, 684, 308, 194, 502, 730, 354, 696, 742, 1084, 594, 480, 674,\n",
    "            1016, 868, 1210\n",
    "        ],\n",
    "        [\n",
    "            776, 684, 0, 992, 878, 502, 274, 810, 468, 742, 400, 1278, 1164,\n",
    "            1130, 788, 1552, 754\n",
    "        ],\n",
    "        [\n",
    "            696, 308, 992, 0, 114, 650, 878, 502, 844, 890, 1232, 514, 628, 822,\n",
    "            1164, 560, 1358\n",
    "        ],\n",
    "        [\n",
    "            582, 194, 878, 114, 0, 536, 764, 388, 730, 776, 1118, 400, 514, 708,\n",
    "            1050, 674, 1244\n",
    "        ],\n",
    "        [\n",
    "            274, 502, 502, 650, 536, 0, 228, 308, 194, 240, 582, 776, 662, 628,\n",
    "            514, 1050, 708\n",
    "        ],\n",
    "        [\n",
    "            502, 730, 274, 878, 764, 228, 0, 536, 194, 468, 354, 1004, 890, 856,\n",
    "            514, 1278, 480\n",
    "        ],\n",
    "        [\n",
    "            194, 354, 810, 502, 388, 308, 536, 0, 342, 388, 730, 468, 354, 320,\n",
    "            662, 742, 856\n",
    "        ],\n",
    "        [\n",
    "            308, 696, 468, 844, 730, 194, 194, 342, 0, 274, 388, 810, 696, 662,\n",
    "            320, 1084, 514\n",
    "        ],\n",
    "        [\n",
    "            194, 742, 742, 890, 776, 240, 468, 388, 274, 0, 342, 536, 422, 388,\n",
    "            274, 810, 468\n",
    "        ],\n",
    "        [\n",
    "            536, 1084, 400, 1232, 1118, 582, 354, 730, 388, 342, 0, 878, 764,\n",
    "            730, 388, 1152, 354\n",
    "        ],\n",
    "        [\n",
    "            502, 594, 1278, 514, 400, 776, 1004, 468, 810, 536, 878, 0, 114,\n",
    "            308, 650, 274, 844\n",
    "        ],\n",
    "        [\n",
    "            388, 480, 1164, 628, 514, 662, 890, 354, 696, 422, 764, 114, 0, 194,\n",
    "            536, 388, 730\n",
    "        ],\n",
    "        [\n",
    "            354, 674, 1130, 822, 708, 628, 856, 320, 662, 388, 730, 308, 194, 0,\n",
    "            342, 422, 536\n",
    "        ],\n",
    "        [\n",
    "            468, 1016, 788, 1164, 1050, 514, 514, 662, 320, 274, 388, 650, 536,\n",
    "            342, 0, 764, 194\n",
    "        ],\n",
    "        [\n",
    "            776, 868, 1552, 560, 674, 1050, 1278, 742, 1084, 810, 1152, 274,\n",
    "            388, 422, 764, 0, 798\n",
    "        ],\n",
    "        [\n",
    "            662, 1210, 754, 1358, 1244, 708, 480, 856, 514, 468, 354, 844, 730,\n",
    "            536, 194, 798, 0\n",
    "        ],\n",
    "    ]\n",
    "    data['pickups_deliveries'] = [\n",
    "        [1, 6],\n",
    "        [2, 10],\n",
    "        [4, 3],\n",
    "        [5, 9],\n",
    "        [7, 8],\n",
    "        [15, 11],\n",
    "        [13, 12],\n",
    "        [16, 14],\n",
    "    ]\n",
    "    data['num_vehicles'] = 4\n",
    "    data['depot'] = 0\n",
    "    return data\n"
   ]
  },
  {
   "cell_type": "code",
   "execution_count": 8,
   "metadata": {},
   "outputs": [],
   "source": [
    "def print_solution(data, manager, routing, solution):\n",
    "    \"\"\"Prints solution on console.\"\"\"\n",
    "    total_distance = 0\n",
    "    for vehicle_id in range(data['num_vehicles']):\n",
    "        index = routing.Start(vehicle_id)\n",
    "        plan_output = 'Route for vehicle {}:\\n'.format(vehicle_id)\n",
    "        route_distance = 0\n",
    "        while not routing.IsEnd(index):\n",
    "            plan_output += ' {} -> '.format(manager.IndexToNode(index))\n",
    "            previous_index = index\n",
    "            index = solution.Value(routing.NextVar(index))\n",
    "            route_distance += routing.GetArcCostForVehicle(\n",
    "                previous_index, index, vehicle_id)\n",
    "        plan_output += '{}\\n'.format(manager.IndexToNode(index))\n",
    "        plan_output += 'Distance of the route: {}m\\n'.format(route_distance)\n",
    "        print(plan_output)\n",
    "        total_distance += route_distance\n",
    "    print('Total Distance of all routes: {}m'.format(total_distance))"
   ]
  },
  {
   "cell_type": "code",
   "execution_count": 27,
   "metadata": {
    "tags": []
   },
   "outputs": [],
   "source": [
    "data = create_data_model()\n",
    "\n",
    "    # Create the routing index manager.\n",
    "manager = pywrapcp.RoutingIndexManager(len(data['distance_matrix']),\n",
    "                                           data['num_vehicles'], data['depot'])\n",
    "routing = pywrapcp.RoutingModel(manager)\n",
    "def distance_callback(from_index, to_index):\n",
    "    \"\"\"Returns the manhattan distance between the two nodes.\"\"\"\n",
    "    # Convert from routing variable Index to distance matrix NodeIndex.\n",
    "    from_node = manager.IndexToNode(from_index)\n",
    "    to_node = manager.IndexToNode(to_index)\n",
    "    return data['distance_matrix'][from_node][to_node]\n",
    "transit_callback_index = routing.RegisterTransitCallback(distance_callback)\n",
    "routing.SetArcCostEvaluatorOfAllVehicles(transit_callback_index)\n"
   ]
  },
  {
   "cell_type": "code",
   "execution_count": 28,
   "metadata": {
    "tags": []
   },
   "outputs": [
    {
     "output_type": "stream",
     "name": "stdout",
     "text": "[1, 6]\n[2, 10]\n[4, 3]\n[5, 9]\n[7, 8]\n[15, 11]\n[13, 12]\n[16, 14]\nRoute for vehicle 0:\n 0 ->  13 ->  15 ->  11 ->  12 -> 0\nDistance of the route: 1552m\n\nRoute for vehicle 1:\n 0 ->  5 ->  2 ->  10 ->  16 ->  14 ->  9 -> 0\nDistance of the route: 2192m\n\nRoute for vehicle 2:\n 0 ->  4 ->  3 -> 0\nDistance of the route: 1392m\n\nRoute for vehicle 3:\n 0 ->  7 ->  1 ->  6 ->  8 -> 0\nDistance of the route: 1780m\n\nTotal Distance of all routes: 6916m\n"
    }
   ],
   "source": [
    "def main():\n",
    "    \"\"\"Entry point of the program.\"\"\"\n",
    "    # Instantiate the data problem.\n",
    "    data = create_data_model()\n",
    "\n",
    "    # Create the routing index manager.\n",
    "    manager = pywrapcp.RoutingIndexManager(len(data['distance_matrix']),\n",
    "                                           data['num_vehicles'], data['depot'])\n",
    "\n",
    "    # Create Routing Model.\n",
    "    routing = pywrapcp.RoutingModel(manager)\n",
    "\n",
    "\n",
    "    # Define cost of each arc.\n",
    "    def distance_callback(from_index, to_index):\n",
    "        \"\"\"Returns the manhattan distance between the two nodes.\"\"\"\n",
    "        # Convert from routing variable Index to distance matrix NodeIndex.\n",
    "        from_node = manager.IndexToNode(from_index)\n",
    "        to_node = manager.IndexToNode(to_index)\n",
    "        return data['distance_matrix'][from_node][to_node]\n",
    "\n",
    "    transit_callback_index = routing.RegisterTransitCallback(distance_callback)\n",
    "    routing.SetArcCostEvaluatorOfAllVehicles(transit_callback_index)\n",
    "\n",
    "    # Add Distance constraint.\n",
    "    dimension_name = 'Distance'\n",
    "    routing.AddDimension(\n",
    "        transit_callback_index,\n",
    "        0,  # no slack\n",
    "        3000,  # vehicle maximum travel distance\n",
    "        True,  # start cumul to zero\n",
    "        dimension_name)\n",
    "    distance_dimension = routing.GetDimensionOrDie(dimension_name)\n",
    "    distance_dimension.SetGlobalSpanCostCoefficient(100)\n",
    "\n",
    "    # Define Transportation Requests.\n",
    "    for request in data['pickups_deliveries']:\n",
    "        pickup_index = manager.NodeToIndex(request[0])\n",
    "        delivery_index = manager.NodeToIndex(request[1])\n",
    "        routing.AddPickupAndDelivery(pickup_index, delivery_index)\n",
    "        routing.solver().Add(\n",
    "            routing.VehicleVar(pickup_index) == routing.VehicleVar(\n",
    "                delivery_index))\n",
    "        routing.solver().Add(\n",
    "            distance_dimension.CumulVar(pickup_index) <=\n",
    "            distance_dimension.CumulVar(delivery_index))\n",
    "\n",
    "    # Setting first solution heuristic.\n",
    "    search_parameters = pywrapcp.DefaultRoutingSearchParameters()\n",
    "    search_parameters.first_solution_strategy = (\n",
    "        routing_enums_pb2.FirstSolutionStrategy.PARALLEL_CHEAPEST_INSERTION)\n",
    "\n",
    "    # Solve the problem.\n",
    "    solution = routing.SolveWithParameters(search_parameters)\n",
    "\n",
    "    # Print solution on console.\n",
    "    if solution:\n",
    "        print_solution(data, manager, routing, solution)\n",
    "\n",
    "\n",
    "if __name__ == '__main__':\n",
    "    main()"
   ]
  },
  {
   "cell_type": "code",
   "execution_count": null,
   "metadata": {},
   "outputs": [],
   "source": []
  }
 ],
 "metadata": {
  "kernelspec": {
   "display_name": "Python 3.7.4 64-bit",
   "language": "python",
   "name": "python37464bitcf094f11a63247469b2cfc8af213e9b1"
  },
  "language_info": {
   "codemirror_mode": {
    "name": "ipython",
    "version": 3
   },
   "file_extension": ".py",
   "mimetype": "text/x-python",
   "name": "python",
   "nbconvert_exporter": "python",
   "pygments_lexer": "ipython3",
   "version": "3.7.4-final"
  }
 },
 "nbformat": 4,
 "nbformat_minor": 2
}