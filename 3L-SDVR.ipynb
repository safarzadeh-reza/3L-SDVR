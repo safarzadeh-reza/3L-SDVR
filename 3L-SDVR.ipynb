{
 "cells": [
  {
   "cell_type": "code",
   "execution_count": 50,
   "metadata": {
    "tags": []
   },
   "outputs": [],
   "source": [
    "# 3L_SDVRP \n"
   ]
  },
  {
   "cell_type": "code",
   "execution_count": 53,
   "metadata": {
    "tags": []
   },
   "outputs": [
    {
     "output_type": "display_data",
     "data": {
      "text/plain": "<Figure size 432x288 with 1 Axes>",
      "image/svg+xml": "<?xml version=\"1.0\" encoding=\"utf-8\" standalone=\"no\"?>\r\n<!DOCTYPE svg PUBLIC \"-//W3C//DTD SVG 1.1//EN\"\r\n  \"http://www.w3.org/Graphics/SVG/1.1/DTD/svg11.dtd\">\r\n<!-- Created with matplotlib (https://matplotlib.org/) -->\r\n<svg height=\"248.518125pt\" version=\"1.1\" viewBox=\"0 0 375.561106 248.518125\" width=\"375.561106pt\" xmlns=\"http://www.w3.org/2000/svg\" xmlns:xlink=\"http://www.w3.org/1999/xlink\">\r\n <defs>\r\n  <style type=\"text/css\">\r\n*{stroke-linecap:butt;stroke-linejoin:round;}\r\n  </style>\r\n </defs>\r\n <g id=\"figure_1\">\r\n  <g id=\"patch_1\">\r\n   <path d=\"M -0 248.518125 \r\nL 375.561106 248.518125 \r\nL 375.561106 0 \r\nL -0 0 \r\nz\r\n\" style=\"fill:none;\"/>\r\n  </g>\r\n  <g id=\"axes_1\">\r\n   <g id=\"patch_2\">\r\n    <path d=\"M 26.925 224.64 \r\nL 361.725 224.64 \r\nL 361.725 7.2 \r\nL 26.925 7.2 \r\nz\r\n\" style=\"fill:#ffffff;\"/>\r\n   </g>\r\n   <g id=\"PathCollection_1\">\r\n    <defs>\r\n     <path d=\"M 0 3 \r\nC 0.795609 3 1.55874 2.683901 2.12132 2.12132 \r\nC 2.683901 1.55874 3 0.795609 3 0 \r\nC 3 -0.795609 2.683901 -1.55874 2.12132 -2.12132 \r\nC 1.55874 -2.683901 0.795609 -3 0 -3 \r\nC -0.795609 -3 -1.55874 -2.683901 -2.12132 -2.12132 \r\nC -2.683901 -1.55874 -3 -0.795609 -3 0 \r\nC -3 0.795609 -2.683901 1.55874 -2.12132 2.12132 \r\nC -1.55874 2.683901 -0.795609 3 0 3 \r\nz\r\n\" id=\"m8160be7499\" style=\"stroke:#0000ff;\"/>\r\n    </defs>\r\n    <g clip-path=\"url(#pfce6d13bb7)\">\r\n     <use style=\"fill:#0000ff;stroke:#0000ff;\" x=\"346.506818\" xlink:href=\"#m8160be7499\" y=\"17.083636\"/>\r\n     <use style=\"fill:#0000ff;stroke:#0000ff;\" x=\"202.653806\" xlink:href=\"#m8160be7499\" y=\"166.583078\"/>\r\n     <use style=\"fill:#0000ff;stroke:#0000ff;\" x=\"50.267826\" xlink:href=\"#m8160be7499\" y=\"171.745283\"/>\r\n     <use style=\"fill:#0000ff;stroke:#0000ff;\" x=\"42.143182\" xlink:href=\"#m8160be7499\" y=\"88.513716\"/>\r\n     <use style=\"fill:#0000ff;stroke:#0000ff;\" x=\"321.572076\" xlink:href=\"#m8160be7499\" y=\"214.756364\"/>\r\n    </g>\r\n   </g>\r\n   <g id=\"matplotlib.axis_1\">\r\n    <g id=\"xtick_1\">\r\n     <g id=\"line2d_1\">\r\n      <defs>\r\n       <path d=\"M 0 0 \r\nL 0 3.5 \r\n\" id=\"m78651c7a73\" style=\"stroke:#000000;stroke-width:0.8;\"/>\r\n      </defs>\r\n      <g>\r\n       <use style=\"stroke:#000000;stroke-width:0.8;\" x=\"69.863421\" xlink:href=\"#m78651c7a73\" y=\"224.64\"/>\r\n      </g>\r\n     </g>\r\n     <g id=\"text_1\">\r\n      <!-- 40 -->\r\n      <defs>\r\n       <path d=\"M 37.796875 64.3125 \r\nL 12.890625 25.390625 \r\nL 37.796875 25.390625 \r\nz\r\nM 35.203125 72.90625 \r\nL 47.609375 72.90625 \r\nL 47.609375 25.390625 \r\nL 58.015625 25.390625 \r\nL 58.015625 17.1875 \r\nL 47.609375 17.1875 \r\nL 47.609375 0 \r\nL 37.796875 0 \r\nL 37.796875 17.1875 \r\nL 4.890625 17.1875 \r\nL 4.890625 26.703125 \r\nz\r\n\" id=\"DejaVuSans-52\"/>\r\n       <path d=\"M 31.78125 66.40625 \r\nQ 24.171875 66.40625 20.328125 58.90625 \r\nQ 16.5 51.421875 16.5 36.375 \r\nQ 16.5 21.390625 20.328125 13.890625 \r\nQ 24.171875 6.390625 31.78125 6.390625 \r\nQ 39.453125 6.390625 43.28125 13.890625 \r\nQ 47.125 21.390625 47.125 36.375 \r\nQ 47.125 51.421875 43.28125 58.90625 \r\nQ 39.453125 66.40625 31.78125 66.40625 \r\nz\r\nM 31.78125 74.21875 \r\nQ 44.046875 74.21875 50.515625 64.515625 \r\nQ 56.984375 54.828125 56.984375 36.375 \r\nQ 56.984375 17.96875 50.515625 8.265625 \r\nQ 44.046875 -1.421875 31.78125 -1.421875 \r\nQ 19.53125 -1.421875 13.0625 8.265625 \r\nQ 6.59375 17.96875 6.59375 36.375 \r\nQ 6.59375 54.828125 13.0625 64.515625 \r\nQ 19.53125 74.21875 31.78125 74.21875 \r\nz\r\n\" id=\"DejaVuSans-48\"/>\r\n      </defs>\r\n      <g transform=\"translate(63.500921 239.238437)scale(0.1 -0.1)\">\r\n       <use xlink:href=\"#DejaVuSans-52\"/>\r\n       <use x=\"63.623047\" xlink:href=\"#DejaVuSans-48\"/>\r\n      </g>\r\n     </g>\r\n    </g>\r\n    <g id=\"xtick_2\">\r\n     <g id=\"line2d_2\">\r\n      <g>\r\n       <use style=\"stroke:#000000;stroke-width:0.8;\" x=\"117.634862\" xlink:href=\"#m78651c7a73\" y=\"224.64\"/>\r\n      </g>\r\n     </g>\r\n     <g id=\"text_2\">\r\n      <!-- 50 -->\r\n      <defs>\r\n       <path d=\"M 10.796875 72.90625 \r\nL 49.515625 72.90625 \r\nL 49.515625 64.59375 \r\nL 19.828125 64.59375 \r\nL 19.828125 46.734375 \r\nQ 21.96875 47.46875 24.109375 47.828125 \r\nQ 26.265625 48.1875 28.421875 48.1875 \r\nQ 40.625 48.1875 47.75 41.5 \r\nQ 54.890625 34.8125 54.890625 23.390625 \r\nQ 54.890625 11.625 47.5625 5.09375 \r\nQ 40.234375 -1.421875 26.90625 -1.421875 \r\nQ 22.3125 -1.421875 17.546875 -0.640625 \r\nQ 12.796875 0.140625 7.71875 1.703125 \r\nL 7.71875 11.625 \r\nQ 12.109375 9.234375 16.796875 8.0625 \r\nQ 21.484375 6.890625 26.703125 6.890625 \r\nQ 35.15625 6.890625 40.078125 11.328125 \r\nQ 45.015625 15.765625 45.015625 23.390625 \r\nQ 45.015625 31 40.078125 35.4375 \r\nQ 35.15625 39.890625 26.703125 39.890625 \r\nQ 22.75 39.890625 18.8125 39.015625 \r\nQ 14.890625 38.140625 10.796875 36.28125 \r\nz\r\n\" id=\"DejaVuSans-53\"/>\r\n      </defs>\r\n      <g transform=\"translate(111.272362 239.238437)scale(0.1 -0.1)\">\r\n       <use xlink:href=\"#DejaVuSans-53\"/>\r\n       <use x=\"63.623047\" xlink:href=\"#DejaVuSans-48\"/>\r\n      </g>\r\n     </g>\r\n    </g>\r\n    <g id=\"xtick_3\">\r\n     <g id=\"line2d_3\">\r\n      <g>\r\n       <use style=\"stroke:#000000;stroke-width:0.8;\" x=\"165.406303\" xlink:href=\"#m78651c7a73\" y=\"224.64\"/>\r\n      </g>\r\n     </g>\r\n     <g id=\"text_3\">\r\n      <!-- 60 -->\r\n      <defs>\r\n       <path d=\"M 33.015625 40.375 \r\nQ 26.375 40.375 22.484375 35.828125 \r\nQ 18.609375 31.296875 18.609375 23.390625 \r\nQ 18.609375 15.53125 22.484375 10.953125 \r\nQ 26.375 6.390625 33.015625 6.390625 \r\nQ 39.65625 6.390625 43.53125 10.953125 \r\nQ 47.40625 15.53125 47.40625 23.390625 \r\nQ 47.40625 31.296875 43.53125 35.828125 \r\nQ 39.65625 40.375 33.015625 40.375 \r\nz\r\nM 52.59375 71.296875 \r\nL 52.59375 62.3125 \r\nQ 48.875 64.0625 45.09375 64.984375 \r\nQ 41.3125 65.921875 37.59375 65.921875 \r\nQ 27.828125 65.921875 22.671875 59.328125 \r\nQ 17.53125 52.734375 16.796875 39.40625 \r\nQ 19.671875 43.65625 24.015625 45.921875 \r\nQ 28.375 48.1875 33.59375 48.1875 \r\nQ 44.578125 48.1875 50.953125 41.515625 \r\nQ 57.328125 34.859375 57.328125 23.390625 \r\nQ 57.328125 12.15625 50.6875 5.359375 \r\nQ 44.046875 -1.421875 33.015625 -1.421875 \r\nQ 20.359375 -1.421875 13.671875 8.265625 \r\nQ 6.984375 17.96875 6.984375 36.375 \r\nQ 6.984375 53.65625 15.1875 63.9375 \r\nQ 23.390625 74.21875 37.203125 74.21875 \r\nQ 40.921875 74.21875 44.703125 73.484375 \r\nQ 48.484375 72.75 52.59375 71.296875 \r\nz\r\n\" id=\"DejaVuSans-54\"/>\r\n      </defs>\r\n      <g transform=\"translate(159.043803 239.238437)scale(0.1 -0.1)\">\r\n       <use xlink:href=\"#DejaVuSans-54\"/>\r\n       <use x=\"63.623047\" xlink:href=\"#DejaVuSans-48\"/>\r\n      </g>\r\n     </g>\r\n    </g>\r\n    <g id=\"xtick_4\">\r\n     <g id=\"line2d_4\">\r\n      <g>\r\n       <use style=\"stroke:#000000;stroke-width:0.8;\" x=\"213.177743\" xlink:href=\"#m78651c7a73\" y=\"224.64\"/>\r\n      </g>\r\n     </g>\r\n     <g id=\"text_4\">\r\n      <!-- 70 -->\r\n      <defs>\r\n       <path d=\"M 8.203125 72.90625 \r\nL 55.078125 72.90625 \r\nL 55.078125 68.703125 \r\nL 28.609375 0 \r\nL 18.3125 0 \r\nL 43.21875 64.59375 \r\nL 8.203125 64.59375 \r\nz\r\n\" id=\"DejaVuSans-55\"/>\r\n      </defs>\r\n      <g transform=\"translate(206.815243 239.238437)scale(0.1 -0.1)\">\r\n       <use xlink:href=\"#DejaVuSans-55\"/>\r\n       <use x=\"63.623047\" xlink:href=\"#DejaVuSans-48\"/>\r\n      </g>\r\n     </g>\r\n    </g>\r\n    <g id=\"xtick_5\">\r\n     <g id=\"line2d_5\">\r\n      <g>\r\n       <use style=\"stroke:#000000;stroke-width:0.8;\" x=\"260.949184\" xlink:href=\"#m78651c7a73\" y=\"224.64\"/>\r\n      </g>\r\n     </g>\r\n     <g id=\"text_5\">\r\n      <!-- 80 -->\r\n      <defs>\r\n       <path d=\"M 31.78125 34.625 \r\nQ 24.75 34.625 20.71875 30.859375 \r\nQ 16.703125 27.09375 16.703125 20.515625 \r\nQ 16.703125 13.921875 20.71875 10.15625 \r\nQ 24.75 6.390625 31.78125 6.390625 \r\nQ 38.8125 6.390625 42.859375 10.171875 \r\nQ 46.921875 13.96875 46.921875 20.515625 \r\nQ 46.921875 27.09375 42.890625 30.859375 \r\nQ 38.875 34.625 31.78125 34.625 \r\nz\r\nM 21.921875 38.8125 \r\nQ 15.578125 40.375 12.03125 44.71875 \r\nQ 8.5 49.078125 8.5 55.328125 \r\nQ 8.5 64.0625 14.71875 69.140625 \r\nQ 20.953125 74.21875 31.78125 74.21875 \r\nQ 42.671875 74.21875 48.875 69.140625 \r\nQ 55.078125 64.0625 55.078125 55.328125 \r\nQ 55.078125 49.078125 51.53125 44.71875 \r\nQ 48 40.375 41.703125 38.8125 \r\nQ 48.828125 37.15625 52.796875 32.3125 \r\nQ 56.78125 27.484375 56.78125 20.515625 \r\nQ 56.78125 9.90625 50.3125 4.234375 \r\nQ 43.84375 -1.421875 31.78125 -1.421875 \r\nQ 19.734375 -1.421875 13.25 4.234375 \r\nQ 6.78125 9.90625 6.78125 20.515625 \r\nQ 6.78125 27.484375 10.78125 32.3125 \r\nQ 14.796875 37.15625 21.921875 38.8125 \r\nz\r\nM 18.3125 54.390625 \r\nQ 18.3125 48.734375 21.84375 45.5625 \r\nQ 25.390625 42.390625 31.78125 42.390625 \r\nQ 38.140625 42.390625 41.71875 45.5625 \r\nQ 45.3125 48.734375 45.3125 54.390625 \r\nQ 45.3125 60.0625 41.71875 63.234375 \r\nQ 38.140625 66.40625 31.78125 66.40625 \r\nQ 25.390625 66.40625 21.84375 63.234375 \r\nQ 18.3125 60.0625 18.3125 54.390625 \r\nz\r\n\" id=\"DejaVuSans-56\"/>\r\n      </defs>\r\n      <g transform=\"translate(254.586684 239.238437)scale(0.1 -0.1)\">\r\n       <use xlink:href=\"#DejaVuSans-56\"/>\r\n       <use x=\"63.623047\" xlink:href=\"#DejaVuSans-48\"/>\r\n      </g>\r\n     </g>\r\n    </g>\r\n    <g id=\"xtick_6\">\r\n     <g id=\"line2d_6\">\r\n      <g>\r\n       <use style=\"stroke:#000000;stroke-width:0.8;\" x=\"308.720624\" xlink:href=\"#m78651c7a73\" y=\"224.64\"/>\r\n      </g>\r\n     </g>\r\n     <g id=\"text_6\">\r\n      <!-- 90 -->\r\n      <defs>\r\n       <path d=\"M 10.984375 1.515625 \r\nL 10.984375 10.5 \r\nQ 14.703125 8.734375 18.5 7.8125 \r\nQ 22.3125 6.890625 25.984375 6.890625 \r\nQ 35.75 6.890625 40.890625 13.453125 \r\nQ 46.046875 20.015625 46.78125 33.40625 \r\nQ 43.953125 29.203125 39.59375 26.953125 \r\nQ 35.25 24.703125 29.984375 24.703125 \r\nQ 19.046875 24.703125 12.671875 31.3125 \r\nQ 6.296875 37.9375 6.296875 49.421875 \r\nQ 6.296875 60.640625 12.9375 67.421875 \r\nQ 19.578125 74.21875 30.609375 74.21875 \r\nQ 43.265625 74.21875 49.921875 64.515625 \r\nQ 56.59375 54.828125 56.59375 36.375 \r\nQ 56.59375 19.140625 48.40625 8.859375 \r\nQ 40.234375 -1.421875 26.421875 -1.421875 \r\nQ 22.703125 -1.421875 18.890625 -0.6875 \r\nQ 15.09375 0.046875 10.984375 1.515625 \r\nz\r\nM 30.609375 32.421875 \r\nQ 37.25 32.421875 41.125 36.953125 \r\nQ 45.015625 41.5 45.015625 49.421875 \r\nQ 45.015625 57.28125 41.125 61.84375 \r\nQ 37.25 66.40625 30.609375 66.40625 \r\nQ 23.96875 66.40625 20.09375 61.84375 \r\nQ 16.21875 57.28125 16.21875 49.421875 \r\nQ 16.21875 41.5 20.09375 36.953125 \r\nQ 23.96875 32.421875 30.609375 32.421875 \r\nz\r\n\" id=\"DejaVuSans-57\"/>\r\n      </defs>\r\n      <g transform=\"translate(302.358124 239.238437)scale(0.1 -0.1)\">\r\n       <use xlink:href=\"#DejaVuSans-57\"/>\r\n       <use x=\"63.623047\" xlink:href=\"#DejaVuSans-48\"/>\r\n      </g>\r\n     </g>\r\n    </g>\r\n    <g id=\"xtick_7\">\r\n     <g id=\"line2d_7\">\r\n      <g>\r\n       <use style=\"stroke:#000000;stroke-width:0.8;\" x=\"356.492065\" xlink:href=\"#m78651c7a73\" y=\"224.64\"/>\r\n      </g>\r\n     </g>\r\n     <g id=\"text_7\">\r\n      <!-- 100 -->\r\n      <defs>\r\n       <path d=\"M 12.40625 8.296875 \r\nL 28.515625 8.296875 \r\nL 28.515625 63.921875 \r\nL 10.984375 60.40625 \r\nL 10.984375 69.390625 \r\nL 28.421875 72.90625 \r\nL 38.28125 72.90625 \r\nL 38.28125 8.296875 \r\nL 54.390625 8.296875 \r\nL 54.390625 0 \r\nL 12.40625 0 \r\nz\r\n\" id=\"DejaVuSans-49\"/>\r\n      </defs>\r\n      <g transform=\"translate(346.948315 239.238437)scale(0.1 -0.1)\">\r\n       <use xlink:href=\"#DejaVuSans-49\"/>\r\n       <use x=\"63.623047\" xlink:href=\"#DejaVuSans-48\"/>\r\n       <use x=\"127.246094\" xlink:href=\"#DejaVuSans-48\"/>\r\n      </g>\r\n     </g>\r\n    </g>\r\n   </g>\r\n   <g id=\"matplotlib.axis_2\">\r\n    <g id=\"ytick_1\">\r\n     <g id=\"line2d_8\">\r\n      <defs>\r\n       <path d=\"M 0 0 \r\nL -3.5 0 \r\n\" id=\"md229354fd9\" style=\"stroke:#000000;stroke-width:0.8;\"/>\r\n      </defs>\r\n      <g>\r\n       <use style=\"stroke:#000000;stroke-width:0.8;\" x=\"26.925\" xlink:href=\"#md229354fd9\" y=\"214.768069\"/>\r\n      </g>\r\n     </g>\r\n     <g id=\"text_8\">\r\n      <!-- 50 -->\r\n      <g transform=\"translate(7.2 218.567288)scale(0.1 -0.1)\">\r\n       <use xlink:href=\"#DejaVuSans-53\"/>\r\n       <use x=\"63.623047\" xlink:href=\"#DejaVuSans-48\"/>\r\n      </g>\r\n     </g>\r\n    </g>\r\n    <g id=\"ytick_2\">\r\n     <g id=\"line2d_9\">\r\n      <g>\r\n       <use style=\"stroke:#000000;stroke-width:0.8;\" x=\"26.925\" xlink:href=\"#md229354fd9\" y=\"170.256553\"/>\r\n      </g>\r\n     </g>\r\n     <g id=\"text_9\">\r\n      <!-- 60 -->\r\n      <g transform=\"translate(7.2 174.055772)scale(0.1 -0.1)\">\r\n       <use xlink:href=\"#DejaVuSans-54\"/>\r\n       <use x=\"63.623047\" xlink:href=\"#DejaVuSans-48\"/>\r\n      </g>\r\n     </g>\r\n    </g>\r\n    <g id=\"ytick_3\">\r\n     <g id=\"line2d_10\">\r\n      <g>\r\n       <use style=\"stroke:#000000;stroke-width:0.8;\" x=\"26.925\" xlink:href=\"#md229354fd9\" y=\"125.745038\"/>\r\n      </g>\r\n     </g>\r\n     <g id=\"text_10\">\r\n      <!-- 70 -->\r\n      <g transform=\"translate(7.2 129.544256)scale(0.1 -0.1)\">\r\n       <use xlink:href=\"#DejaVuSans-55\"/>\r\n       <use x=\"63.623047\" xlink:href=\"#DejaVuSans-48\"/>\r\n      </g>\r\n     </g>\r\n    </g>\r\n    <g id=\"ytick_4\">\r\n     <g id=\"line2d_11\">\r\n      <g>\r\n       <use style=\"stroke:#000000;stroke-width:0.8;\" x=\"26.925\" xlink:href=\"#md229354fd9\" y=\"81.233522\"/>\r\n      </g>\r\n     </g>\r\n     <g id=\"text_11\">\r\n      <!-- 80 -->\r\n      <g transform=\"translate(7.2 85.032741)scale(0.1 -0.1)\">\r\n       <use xlink:href=\"#DejaVuSans-56\"/>\r\n       <use x=\"63.623047\" xlink:href=\"#DejaVuSans-48\"/>\r\n      </g>\r\n     </g>\r\n    </g>\r\n    <g id=\"ytick_5\">\r\n     <g id=\"line2d_12\">\r\n      <g>\r\n       <use style=\"stroke:#000000;stroke-width:0.8;\" x=\"26.925\" xlink:href=\"#md229354fd9\" y=\"36.722006\"/>\r\n      </g>\r\n     </g>\r\n     <g id=\"text_12\">\r\n      <!-- 90 -->\r\n      <g transform=\"translate(7.2 40.521225)scale(0.1 -0.1)\">\r\n       <use xlink:href=\"#DejaVuSans-57\"/>\r\n       <use x=\"63.623047\" xlink:href=\"#DejaVuSans-48\"/>\r\n      </g>\r\n     </g>\r\n    </g>\r\n   </g>\r\n   <g id=\"line2d_13\">\r\n    <path clip-path=\"url(#pfce6d13bb7)\" d=\"M 203.053847 48.039968 \r\n\" style=\"fill:none;stroke:#ff0000;stroke-linecap:square;stroke-width:1.5;\"/>\r\n    <defs>\r\n     <path d=\"M -3 3 \r\nL 3 3 \r\nL 3 -3 \r\nL -3 -3 \r\nz\r\n\" id=\"m1198134777\" style=\"stroke:#ff0000;stroke-linejoin:miter;\"/>\r\n    </defs>\r\n    <g clip-path=\"url(#pfce6d13bb7)\">\r\n     <use style=\"fill:#ff0000;stroke:#ff0000;stroke-linejoin:miter;\" x=\"203.053847\" xlink:href=\"#m1198134777\" y=\"48.039968\"/>\r\n    </g>\r\n   </g>\r\n   <g id=\"patch_3\">\r\n    <path d=\"M 26.925 224.64 \r\nL 26.925 7.2 \r\n\" style=\"fill:none;stroke:#000000;stroke-linecap:square;stroke-linejoin:miter;stroke-width:0.8;\"/>\r\n   </g>\r\n   <g id=\"patch_4\">\r\n    <path d=\"M 361.725 224.64 \r\nL 361.725 7.2 \r\n\" style=\"fill:none;stroke:#000000;stroke-linecap:square;stroke-linejoin:miter;stroke-width:0.8;\"/>\r\n   </g>\r\n   <g id=\"patch_5\">\r\n    <path d=\"M 26.925 224.64 \r\nL 361.725 224.64 \r\n\" style=\"fill:none;stroke:#000000;stroke-linecap:square;stroke-linejoin:miter;stroke-width:0.8;\"/>\r\n   </g>\r\n   <g id=\"patch_6\">\r\n    <path d=\"M 26.925 7.2 \r\nL 361.725 7.2 \r\n\" style=\"fill:none;stroke:#000000;stroke-linecap:square;stroke-linejoin:miter;stroke-width:0.8;\"/>\r\n   </g>\r\n   <g id=\"text_13\">\r\n    <!-- $N_1$ -->\r\n    <defs>\r\n     <path d=\"M 16.890625 72.90625 \r\nL 30.171875 72.90625 \r\nL 50.296875 10.40625 \r\nL 62.5 72.90625 \r\nL 72.125 72.90625 \r\nL 57.90625 0 \r\nL 44.578125 0 \r\nL 24.515625 62.890625 \r\nL 12.3125 0 \r\nL 2.6875 0 \r\nz\r\n\" id=\"DejaVuSans-Oblique-78\"/>\r\n    </defs>\r\n    <g transform=\"translate(356.061106 17.083636)scale(0.1 -0.1)\">\r\n     <use transform=\"translate(0 0.09375)\" xlink:href=\"#DejaVuSans-Oblique-78\"/>\r\n     <use transform=\"translate(74.804688 -16.3125)scale(0.7)\" xlink:href=\"#DejaVuSans-49\"/>\r\n    </g>\r\n   </g>\r\n   <g id=\"text_14\">\r\n    <!-- $N_2$ -->\r\n    <defs>\r\n     <path d=\"M 19.1875 8.296875 \r\nL 53.609375 8.296875 \r\nL 53.609375 0 \r\nL 7.328125 0 \r\nL 7.328125 8.296875 \r\nQ 12.9375 14.109375 22.625 23.890625 \r\nQ 32.328125 33.6875 34.8125 36.53125 \r\nQ 39.546875 41.84375 41.421875 45.53125 \r\nQ 43.3125 49.21875 43.3125 52.78125 \r\nQ 43.3125 58.59375 39.234375 62.25 \r\nQ 35.15625 65.921875 28.609375 65.921875 \r\nQ 23.96875 65.921875 18.8125 64.3125 \r\nQ 13.671875 62.703125 7.8125 59.421875 \r\nL 7.8125 69.390625 \r\nQ 13.765625 71.78125 18.9375 73 \r\nQ 24.125 74.21875 28.421875 74.21875 \r\nQ 39.75 74.21875 46.484375 68.546875 \r\nQ 53.21875 62.890625 53.21875 53.421875 \r\nQ 53.21875 48.921875 51.53125 44.890625 \r\nQ 49.859375 40.875 45.40625 35.40625 \r\nQ 44.1875 33.984375 37.640625 27.21875 \r\nQ 31.109375 20.453125 19.1875 8.296875 \r\nz\r\n\" id=\"DejaVuSans-50\"/>\r\n    </defs>\r\n    <g transform=\"translate(212.208095 166.583078)scale(0.1 -0.1)\">\r\n     <use transform=\"translate(0 0.09375)\" xlink:href=\"#DejaVuSans-Oblique-78\"/>\r\n     <use transform=\"translate(74.804688 -16.3125)scale(0.7)\" xlink:href=\"#DejaVuSans-50\"/>\r\n    </g>\r\n   </g>\r\n   <g id=\"text_15\">\r\n    <!-- $N_3$ -->\r\n    <defs>\r\n     <path d=\"M 40.578125 39.3125 \r\nQ 47.65625 37.796875 51.625 33 \r\nQ 55.609375 28.21875 55.609375 21.1875 \r\nQ 55.609375 10.40625 48.1875 4.484375 \r\nQ 40.765625 -1.421875 27.09375 -1.421875 \r\nQ 22.515625 -1.421875 17.65625 -0.515625 \r\nQ 12.796875 0.390625 7.625 2.203125 \r\nL 7.625 11.71875 \r\nQ 11.71875 9.328125 16.59375 8.109375 \r\nQ 21.484375 6.890625 26.8125 6.890625 \r\nQ 36.078125 6.890625 40.9375 10.546875 \r\nQ 45.796875 14.203125 45.796875 21.1875 \r\nQ 45.796875 27.640625 41.28125 31.265625 \r\nQ 36.765625 34.90625 28.71875 34.90625 \r\nL 20.21875 34.90625 \r\nL 20.21875 43.015625 \r\nL 29.109375 43.015625 \r\nQ 36.375 43.015625 40.234375 45.921875 \r\nQ 44.09375 48.828125 44.09375 54.296875 \r\nQ 44.09375 59.90625 40.109375 62.90625 \r\nQ 36.140625 65.921875 28.71875 65.921875 \r\nQ 24.65625 65.921875 20.015625 65.03125 \r\nQ 15.375 64.15625 9.8125 62.3125 \r\nL 9.8125 71.09375 \r\nQ 15.4375 72.65625 20.34375 73.4375 \r\nQ 25.25 74.21875 29.59375 74.21875 \r\nQ 40.828125 74.21875 47.359375 69.109375 \r\nQ 53.90625 64.015625 53.90625 55.328125 \r\nQ 53.90625 49.265625 50.4375 45.09375 \r\nQ 46.96875 40.921875 40.578125 39.3125 \r\nz\r\n\" id=\"DejaVuSans-51\"/>\r\n    </defs>\r\n    <g transform=\"translate(59.822114 171.745283)scale(0.1 -0.1)\">\r\n     <use transform=\"translate(0 0.09375)\" xlink:href=\"#DejaVuSans-Oblique-78\"/>\r\n     <use transform=\"translate(74.804688 -16.3125)scale(0.7)\" xlink:href=\"#DejaVuSans-51\"/>\r\n    </g>\r\n   </g>\r\n   <g id=\"text_16\">\r\n    <!-- $N_4$ -->\r\n    <g transform=\"translate(51.69747 88.513716)scale(0.1 -0.1)\">\r\n     <use transform=\"translate(0 0.09375)\" xlink:href=\"#DejaVuSans-Oblique-78\"/>\r\n     <use transform=\"translate(74.804688 -16.3125)scale(0.7)\" xlink:href=\"#DejaVuSans-52\"/>\r\n    </g>\r\n   </g>\r\n   <g id=\"text_17\">\r\n    <!-- $N_5$ -->\r\n    <g transform=\"translate(331.126364 214.756364)scale(0.1 -0.1)\">\r\n     <use transform=\"translate(0 0.09375)\" xlink:href=\"#DejaVuSans-Oblique-78\"/>\r\n     <use transform=\"translate(74.804688 -16.3125)scale(0.7)\" xlink:href=\"#DejaVuSans-53\"/>\r\n    </g>\r\n   </g>\r\n  </g>\r\n </g>\r\n <defs>\r\n  <clipPath id=\"pfce6d13bb7\">\r\n   <rect height=\"217.44\" width=\"334.8\" x=\"26.925\" y=\"7.2\"/>\r\n  </clipPath>\r\n </defs>\r\n</svg>\r\n",
      "image/png": "[encoded data removed]"
     },
     "metadata": {
      "needs_background": "light"
     }
    }
   ],
   "source": [
    "import numpy as np\n",
    "import matplotlib.pyplot as plt\n",
    "from scipy.stats import multinomial\n",
    "from scipy.stats import dirichlet\n",
    "from py3dbp import Packer, Bin, Item\n",
    "\n",
    "\n",
    "# \"rnd\" is an object that generate random numbers\n",
    "rnd = np.random\n",
    "#\"seed(0)\" is a method that reset (every time), the same random set of numbers\n",
    "rnd.seed(0)\n",
    "# Number of collection points\n",
    "n_customer = 5\n",
    "# The set of nodes without the depot.\n",
    "N = [i for i in range(1,n_customer+1)]\n",
    "# The set of nodes + the depot.\n",
    "V = [0]+ N\n",
    "# The Number of cargoes\n",
    "Cat = 10\n",
    "# Generating items for each collection point\n",
    "IT = []\n",
    "for i in N:\n",
    "    cargo_set_=[]\n",
    "    for j in range (0,Cat):\n",
    "        cargo_set_.append({(i,j):[rnd.randint(1, kk) for kk in [10,10,10,100]]})\n",
    "    IT.append(cargo_set_)\n",
    "# Number of Vehicles\n",
    "nv = 3\n",
    "# Max volume and Max weight that each vehicle can carry\n",
    "Container_vehicle = [('vehicle_%d'%kk, rnd.randint(50, 100), rnd.randint(50, 100), rnd.randint(50, 100), rnd.randint(100, 500)) for kk in range(0,nv) ]\n",
    "# Generating random numbers between (0 and 15) * 200.\n",
    "xc = rnd.rand(n_customer+1)*200\n",
    "# Generating random numbers between (0 and 15) * 100.\n",
    "yc = rnd.rand(n_customer+1)*100\n",
    "# The number of Routing plans\n",
    "RP = 10\n",
    "#Plotting the n nodes without the node 0 (depot) and chose the color blue for each node.\n",
    "plt.scatter(xc[1:],yc[1:],c='b')\n",
    "# Associating and plotting each demand in the right of each blue node (customer).\n",
    "for i in N:\n",
    "    plt.annotate('$N_%d$'%(i),(xc[i]+2,yc[i]))\n",
    "# Ploting the node 0, chosing the red like its color and the square form like a marker.\n",
    "plt.plot(xc[0],yc[0],c='r' ,marker='s')\n",
    "# Showing the Initial plot.\n",
    "plt.show()\n",
    "# Intializing the set of arcs A.\n",
    "A = [(i,j) for i in V for j in V if i!=j]\n",
    "# Calculating the distance between each node as non-negative cost of each arc\n",
    "dist= {(i, j): np.hypot(xc[i]-xc[j], yc[i]-yc[j]) for i, j in A}\n",
    "# Generating historical data wich show how many times each route has been chosen\n",
    "historical_routes = [rnd.randint(1, 100) for i in range(0, len(A))]"
   ]
  },
  {
   "cell_type": "code",
   "execution_count": null,
   "metadata": {},
   "outputs": [],
   "source": [
    "import dirichlet\n",
    "help(dirichlet)\n",
    "dirichlet.meanprecision(np.array(historical_routes))\n",
    "dirichlet.mle(np.array(10,5), tol=1e-07, method='meanprecision', maxiter=None)"
   ]
  },
  {
   "cell_type": "code",
   "execution_count": 54,
   "metadata": {
    "tags": []
   },
   "outputs": [],
   "source": [
    "# Vehicle Route Planning Module\n",
    "\n",
    "# alpha = np.array(historical_routes) # alpha is an array of our historical data for each edge\n",
    "\n",
    "def findRoutPlans(alpha):\n",
    "    drichlet_mean = dirichlet.mean(alpha)\n",
    "    multinomial_ed = multinomial.rvs(300, drichlet_mean, size=RP*2)\n",
    "    # Finding Edges\n",
    "    semi_final_path = []\n",
    "    for routplansiterator in range(0, len(multinomial_ed)):\n",
    "        sorted_edges=[]\n",
    "        for maxifinder in range(max(multinomial_ed[routplansiterator]), -1, -1):\n",
    "            finded = np.where(multinomial_ed[routplansiterator] == maxifinder)\n",
    "            sorted_edges.append(finded[0])\n",
    "        first_path = []\n",
    "        for hh in sorted_edges:\n",
    "            for ff in hh:\n",
    "                # Checking for duplicate collection points\n",
    "                if len(first_path)>0:\n",
    "                    first_elements = [i for i,j in first_path]\n",
    "                    second_elements = [j for i,j in first_path]\n",
    "                    if A[ff][0] not in first_elements and A[ff][1] not in second_elements:\n",
    "                        first_path.append(A[ff])\n",
    "                else:\n",
    "                    first_path.append(A[ff])\n",
    "        semi_final_path.append(first_path[0:n_customer])\n",
    "    \n",
    "    # Removing invalids\n",
    "    numfailed = []\n",
    "    for rpiterator in range(0,len(semi_final_path)):\n",
    "        starting_point=0\n",
    "        for jkl in semi_final_path[rpiterator]:\n",
    "            starting_point=starting_point+1\n",
    "            for lkj in semi_final_path[rpiterator][starting_point:]:\n",
    "                if (jkl[1] == lkj[0] and jkl[0] == lkj[1]):\n",
    "                    numfailed.append(rpiterator)\n",
    "                    \n",
    "    final_path = [i for n, i in enumerate(semi_final_path) if n not in numfailed]\n",
    "    return final_path\n"
   ]
  },
  {
   "cell_type": "code",
   "execution_count": 55,
   "metadata": {
    "tags": []
   },
   "outputs": [],
   "source": [
    "# Collection points that vehicle should pass\n",
    "\n",
    "def collectionPointsFinder(final_path):\n",
    "    allocatedCPs=[]\n",
    "    CPs=[]\n",
    "    for y in range(0,len(final_path)):\n",
    "        for i, j in final_path[y]:\n",
    "            CPs.append(i)\n",
    "            CPs.append(j)\n",
    "        allocatedCPs.append(set(myset))\n",
    "    return allocatedCPs\n"
   ]
  },
  {
   "cell_type": "code",
   "execution_count": 56,
   "metadata": {},
   "outputs": [],
   "source": [
    "# Splitting Module\n",
    "\n",
    "# Sorting\n",
    "def splitCargoes(alpha_s):\n",
    "    drichlet_mean_s = dirichlet.mean(alpha_s)\n",
    "\n",
    "    multinomial_ed_s = multinomial.rvs(100, drichlet_mean_s, size=5)\n",
    "\n",
    "    # Choosing Cargoes\n",
    "    final_set = []\n",
    "    for cargoewclassiterator in range(0, len(multinomial_ed_s)):\n",
    "        sorted_cargoes=[]\n",
    "        for maxfinder in range(max(multinomial_ed_s[cargoewclassiterator]), -1, -1):\n",
    "            if maxfinder>0:\n",
    "                finded_cargoes = np.where(multinomial_ed_s[cargoewclassiterator] == maxfinder)\n",
    "                sorted_cargoes.append(finded_cargoes[0])\n",
    "        first_set = []\n",
    "        for hh in sorted_cargoes:\n",
    "            for ff in hh:\n",
    "                first_set.append(IT[cargoewclassiterator][ff])\n",
    "        final_set.append([first_set])\n",
    "\n",
    "    return final_set"
   ]
  },
  {
   "cell_type": "code",
   "execution_count": 57,
   "metadata": {},
   "outputs": [
    {
     "output_type": "execute_result",
     "data": {
      "text/plain": "[[{(1, 3): [2, 7, 8, 88]}, {(1, 8): [4, 4, 8, 33]}, {(1, 2): [8, 7, 9, 89]}],\n [{(2, 2): [6, 6, 7, 18]}, {(2, 6): [5, 5, 7, 69]}, {(2, 3): [5, 9, 2, 66]}],\n [{(3, 2): [5, 3, 1, 94]}, {(3, 3): [4, 3, 1, 22]}, {(3, 4): [1, 3, 8, 60]}],\n [{(4, 8): [5, 7, 6, 32]}, {(4, 9): [8, 9, 9, 80]}, {(4, 0): [7, 4, 4, 57]}],\n [{(5, 9): [8, 8, 4, 47]}, {(5, 1): [7, 2, 7, 45]}, {(5, 2): [9, 9, 4, 83]}]]"
     },
     "metadata": {},
     "execution_count": 57
    }
   ],
   "source": [
    "# split between vehicles\n",
    "\n",
    "alpha = np.array(historical_routes)\n",
    "final_path = findRoutPlans(alpha)\n",
    "\n",
    "one_prob = [1 for i in range(0, len(IT[0]))]\n",
    "alpha_s = np.array(one_prob)\n",
    "final_set = splitCargoes(alpha_s)\n",
    "\n",
    "# Cargoes for vehicles\n",
    "\n",
    "set_for_vehicles=[]\n",
    "for vehicle_num in range(0,nv):\n",
    "    init_set=[]\n",
    "    for custom_num in range(0,n_customer):\n",
    "        init_set.append(final_set[custom_num][0][vehicle_num*round(Cat/nv):vehicle_num*round(Cat/nv)+round(Cat/nv)])\n",
    "    set_for_vehicles.append(init_set)\n",
    "set_for_vehicles[0]\n"
   ]
  },
  {
   "cell_type": "code",
   "execution_count": 78,
   "metadata": {
    "tags": []
   },
   "outputs": [],
   "source": [
    "# Optimal 3D Loading Module\n",
    "\n",
    "def loading(Container_vehicle, final_set):\n",
    "    packer = Packer()\n",
    "\n",
    "    # The maximum volum and weight that a container can carry (length, width, height, weight)\n",
    "    vehicle_count = 0\n",
    "    for vehicle_name, vehicle_width, vehicle_height, vehicle_depth, vehicle_weight in Container_vehicle:\n",
    "        # Add bins Number of vehicles\n",
    "        vehicle_count = vehicle_count + 1\n",
    "        packer.add_bin(Bin(vehicle_name, vehicle_width, vehicle_height, vehicle_depth, vehicle_weight)) \n",
    "        \n",
    "\n",
    "    for customeritems in final_set:\n",
    "        for items in customeritems:\n",
    "            for boxes in items:\n",
    "                packer.add_item(Item(list(boxes.keys())[0],\n",
    "                                    list(boxes.values())[0][0],\n",
    "                                    list(boxes.values())[0][1],\n",
    "                                    list(boxes.values())[0][2],\n",
    "                                    list(boxes.values())[0][3]))\n",
    "    packer.pack(number_of_decimals=0)\n",
    "    for b in packer.bins:\n",
    "        print(\":::::::::::\", b.string())\n",
    "\n",
    "        print(\"FITTED ITEMS:\")\n",
    "        for item in b.items:\n",
    "            print(\"====> \", item.string())\n",
    "\n",
    "        print(\"UNFITTED ITEMS:\")\n",
    "        for item in b.unfitted_items:\n",
    "            print(\"====> \", item.string())\n",
    "\n",
    "        print(\"**************************\")\n",
    "\n",
    "    return packer\n",
    "\n"
   ]
  },
  {
   "cell_type": "code",
   "execution_count": 79,
   "metadata": {
    "tags": []
   },
   "outputs": [
    {
     "output_type": "stream",
     "name": "stdout",
     "text": "::::::::::: vehicle_1(59x60x77, max_weight:299) vol(272580)\nFITTED ITEMS:\n====>  (2, 1)(3x1x1, weight: 37) pos([0, 0, 0]) rt(0) vol(3)\n====>  (3, 9)(1x1x7, weight: 1) pos([Decimal('3'), 0, 0]) rt(0) vol(7)\n====>  (1, 9)(2x1x5, weight: 24) pos([Decimal('4'), 0, 0]) rt(0) vol(10)\n====>  (2, 5)(3x1x4, weight: 54) pos([Decimal('6'), 0, 0]) rt(0) vol(12)\n====>  (3, 3)(4x3x1, weight: 22) pos([Decimal('9'), 0, 0]) rt(0) vol(12)\n====>  (3, 7)(2x3x2, weight: 37) pos([Decimal('9'), 0, Decimal('1')]) rt(0) vol(12)\n====>  (3, 1)(6x1x2, weight: 51) pos([Decimal('9'), 0, Decimal('1')]) rt(0) vol(12)\n====>  (4, 4)(4x1x5, weight: 68) pos([Decimal('9'), 0, Decimal('1')]) rt(0) vol(20)\n====>  (4, 1)(9x9x3, weight: 4) pos([Decimal('13'), 0, 0]) rt(0) vol(243)\nUNFITTED ITEMS:\n====>  (3, 2)(5x3x1, weight: 94) pos([Decimal('9'), 0, Decimal('1')]) rt(0) vol(15)\n====>  (1, 0)(6x1x4, weight: 68) pos([Decimal('9'), 0, Decimal('1')]) rt(0) vol(24)\n====>  (1, 6)(4x6x1, weight: 83) pos([Decimal('9'), 0, Decimal('1')]) rt(0) vol(24)\n====>  (3, 4)(1x3x8, weight: 60) pos([Decimal('9'), 0, Decimal('1')]) rt(0) vol(24)\n====>  (4, 2)(3x1x9, weight: 73) pos([Decimal('9'), 0, Decimal('1')]) rt(0) vol(27)\n====>  (3, 5)(3x3x4, weight: 95) pos([Decimal('9'), 0, Decimal('1')]) rt(0) vol(36)\n====>  (4, 6)(6x1x7, weight: 62) pos([Decimal('9'), 0, Decimal('1')]) rt(0) vol(42)\n====>  (3, 6)(4x3x4, weight: 21) pos([Decimal('9'), 0, Decimal('1')]) rt(0) vol(48)\n====>  (3, 0)(2x6x4, weight: 65) pos([Decimal('9'), 0, Decimal('1')]) rt(0) vol(48)\n====>  (5, 4)(6x8x1, weight: 12) pos([Decimal('9'), 0, Decimal('1')]) rt(0) vol(48)\n====>  (4, 5)(7x9x1, weight: 25) pos([Decimal('9'), 0, Decimal('1')]) rt(0) vol(63)\n====>  (1, 7)(4x9x2, weight: 30) pos([Decimal('9'), 0, Decimal('1')]) rt(0) vol(72)\n====>  (4, 7)(4x2x9, weight: 33) pos([Decimal('9'), 0, Decimal('1')]) rt(0) vol(72)\n====>  (2, 3)(5x9x2, weight: 66) pos([Decimal('9'), 0, Decimal('1')]) rt(0) vol(90)\n====>  (2, 0)(4x3x8, weight: 29) pos([Decimal('9'), 0, Decimal('1')]) rt(0) vol(96)\n====>  (5, 1)(7x2x7, weight: 45) pos([Decimal('9'), 0, Decimal('1')]) rt(0) vol(98)\n====>  (2, 7)(5x4x5, weight: 53) pos([Decimal('9'), 0, Decimal('1')]) rt(0) vol(100)\n====>  (1, 4)(9x2x6, weight: 26) pos([Decimal('9'), 0, Decimal('1')]) rt(0) vol(108)\n====>  (4, 3)(4x9x3, weight: 53) pos([Decimal('9'), 0, Decimal('1')]) rt(0) vol(108)\n====>  (5, 6)(9x3x4, weight: 90) pos([Decimal('9'), 0, Decimal('1')]) rt(0) vol(108)\n====>  (1, 3)(2x7x8, weight: 88) pos([Decimal('9'), 0, Decimal('1')]) rt(0) vol(112)\n====>  (4, 0)(7x4x4, weight: 57) pos([Decimal('9'), 0, Decimal('1')]) rt(0) vol(112)\n====>  (5, 3)(4x7x4, weight: 87) pos([Decimal('9'), 0, Decimal('1')]) rt(0) vol(112)\n====>  (5, 8)(5x6x4, weight: 36) pos([Decimal('9'), 0, Decimal('1')]) rt(0) vol(120)\n====>  (1, 8)(4x4x8, weight: 33) pos([Decimal('9'), 0, Decimal('1')]) rt(0) vol(128)\n====>  (2, 6)(5x5x7, weight: 69) pos([Decimal('9'), 0, Decimal('1')]) rt(0) vol(175)\n====>  (1, 5)(9x5x4, weight: 81) pos([Decimal('9'), 0, Decimal('1')]) rt(0) vol(180)\n====>  (2, 8)(9x5x4, weight: 59) pos([Decimal('9'), 0, Decimal('1')]) rt(0) vol(180)\n====>  (3, 8)(7x9x3, weight: 52) pos([Decimal('9'), 0, Decimal('1')]) rt(0) vol(189)\n====>  (5, 0)(3x9x7, weight: 80) pos([Decimal('9'), 0, Decimal('1')]) rt(0) vol(189)\n====>  (1, 1)(8x4x6, weight: 37) pos([Decimal('9'), 0, Decimal('1')]) rt(0) vol(192)\n====>  (5, 7)(8x6x4, weight: 47) pos([Decimal('9'), 0, Decimal('1')]) rt(0) vol(192)\n====>  (4, 8)(5x7x6, weight: 32) pos([Decimal('9'), 0, Decimal('1')]) rt(0) vol(210)\n====>  (2, 4)(8x4x7, weight: 12) pos([Decimal('9'), 0, Decimal('1')]) rt(0) vol(224)\n====>  (2, 2)(6x6x7, weight: 18) pos([Decimal('13'), 0, Decimal('3')]) rt(0) vol(252)\n====>  (5, 9)(8x8x4, weight: 47) pos([Decimal('13'), 0, Decimal('3')]) rt(0) vol(256)\n====>  (2, 9)(8x6x6, weight: 49) pos([Decimal('13'), 0, Decimal('3')]) rt(0) vol(288)\n====>  (5, 5)(9x5x7, weight: 38) pos([Decimal('13'), 0, Decimal('3')]) rt(0) vol(315)\n====>  (5, 2)(9x9x4, weight: 83) pos([Decimal('13'), 0, Decimal('3')]) rt(0) vol(324)\n====>  (1, 2)(8x7x9, weight: 89) pos([Decimal('13'), 0, Decimal('3')]) rt(0) vol(504)\n====>  (4, 9)(8x9x9, weight: 80) pos([Decimal('13'), 0, Decimal('3')]) rt(0) vol(648)\n**************************\n::::::::::: vehicle_0(76x94x53, max_weight:387) vol(378632)\nFITTED ITEMS:\n====>  (2, 1)(3x1x1, weight: 37) pos([0, 0, 0]) rt(0) vol(3)\n====>  (3, 9)(1x1x7, weight: 1) pos([Decimal('3'), 0, 0]) rt(0) vol(7)\n====>  (1, 9)(2x1x5, weight: 24) pos([Decimal('4'), 0, 0]) rt(0) vol(10)\n====>  (2, 5)(3x1x4, weight: 54) pos([Decimal('6'), 0, 0]) rt(0) vol(12)\n====>  (3, 3)(4x3x1, weight: 22) pos([Decimal('9'), 0, 0]) rt(0) vol(12)\n====>  (3, 7)(2x3x2, weight: 37) pos([Decimal('9'), 0, Decimal('1')]) rt(0) vol(12)\n====>  (3, 1)(6x1x2, weight: 51) pos([Decimal('9'), 0, Decimal('1')]) rt(0) vol(12)\n====>  (3, 2)(5x3x1, weight: 94) pos([Decimal('9'), 0, Decimal('1')]) rt(0) vol(15)\n====>  (3, 4)(1x3x8, weight: 60) pos([Decimal('9'), 0, Decimal('1')]) rt(0) vol(24)\n====>  (4, 1)(9x9x3, weight: 4) pos([Decimal('13'), 0, 0]) rt(0) vol(243)\nUNFITTED ITEMS:\n====>  (4, 4)(4x1x5, weight: 68) pos([Decimal('9'), 0, Decimal('1')]) rt(0) vol(20)\n====>  (1, 0)(6x1x4, weight: 68) pos([Decimal('9'), 0, Decimal('1')]) rt(0) vol(24)\n====>  (1, 6)(4x6x1, weight: 83) pos([Decimal('9'), 0, Decimal('1')]) rt(0) vol(24)\n====>  (4, 2)(3x1x9, weight: 73) pos([Decimal('9'), 0, Decimal('1')]) rt(0) vol(27)\n====>  (3, 5)(3x3x4, weight: 95) pos([Decimal('9'), 0, Decimal('1')]) rt(0) vol(36)\n====>  (4, 6)(6x1x7, weight: 62) pos([Decimal('9'), 0, Decimal('1')]) rt(0) vol(42)\n====>  (3, 6)(4x3x4, weight: 21) pos([Decimal('9'), 0, Decimal('1')]) rt(0) vol(48)\n====>  (3, 0)(2x6x4, weight: 65) pos([Decimal('9'), 0, Decimal('1')]) rt(0) vol(48)\n====>  (5, 4)(6x8x1, weight: 12) pos([Decimal('9'), 0, Decimal('1')]) rt(0) vol(48)\n====>  (4, 5)(7x9x1, weight: 25) pos([Decimal('9'), 0, Decimal('1')]) rt(0) vol(63)\n====>  (1, 7)(4x9x2, weight: 30) pos([Decimal('9'), 0, Decimal('1')]) rt(0) vol(72)\n====>  (4, 7)(4x2x9, weight: 33) pos([Decimal('9'), 0, Decimal('1')]) rt(0) vol(72)\n====>  (2, 3)(5x9x2, weight: 66) pos([Decimal('9'), 0, Decimal('1')]) rt(0) vol(90)\n====>  (2, 0)(4x3x8, weight: 29) pos([Decimal('9'), 0, Decimal('1')]) rt(0) vol(96)\n====>  (5, 1)(7x2x7, weight: 45) pos([Decimal('9'), 0, Decimal('1')]) rt(0) vol(98)\n====>  (2, 7)(5x4x5, weight: 53) pos([Decimal('9'), 0, Decimal('1')]) rt(0) vol(100)\n====>  (1, 4)(9x2x6, weight: 26) pos([Decimal('9'), 0, Decimal('1')]) rt(0) vol(108)\n====>  (4, 3)(4x9x3, weight: 53) pos([Decimal('9'), 0, Decimal('1')]) rt(0) vol(108)\n====>  (5, 6)(9x3x4, weight: 90) pos([Decimal('9'), 0, Decimal('1')]) rt(0) vol(108)\n====>  (1, 3)(2x7x8, weight: 88) pos([Decimal('9'), 0, Decimal('1')]) rt(0) vol(112)\n====>  (4, 0)(7x4x4, weight: 57) pos([Decimal('9'), 0, Decimal('1')]) rt(0) vol(112)\n====>  (5, 3)(4x7x4, weight: 87) pos([Decimal('9'), 0, Decimal('1')]) rt(0) vol(112)\n====>  (5, 8)(5x6x4, weight: 36) pos([Decimal('9'), 0, Decimal('1')]) rt(0) vol(120)\n====>  (1, 8)(4x4x8, weight: 33) pos([Decimal('9'), 0, Decimal('1')]) rt(0) vol(128)\n====>  (2, 6)(5x5x7, weight: 69) pos([Decimal('9'), 0, Decimal('1')]) rt(0) vol(175)\n====>  (1, 5)(9x5x4, weight: 81) pos([Decimal('9'), 0, Decimal('1')]) rt(0) vol(180)\n====>  (2, 8)(9x5x4, weight: 59) pos([Decimal('9'), 0, Decimal('1')]) rt(0) vol(180)\n====>  (3, 8)(7x9x3, weight: 52) pos([Decimal('9'), 0, Decimal('1')]) rt(0) vol(189)\n====>  (5, 0)(3x9x7, weight: 80) pos([Decimal('9'), 0, Decimal('1')]) rt(0) vol(189)\n====>  (1, 1)(8x4x6, weight: 37) pos([Decimal('9'), 0, Decimal('1')]) rt(0) vol(192)\n====>  (5, 7)(8x6x4, weight: 47) pos([Decimal('9'), 0, Decimal('1')]) rt(0) vol(192)\n====>  (4, 8)(5x7x6, weight: 32) pos([Decimal('9'), 0, Decimal('1')]) rt(0) vol(210)\n====>  (2, 4)(8x4x7, weight: 12) pos([Decimal('9'), 0, Decimal('1')]) rt(0) vol(224)\n====>  (2, 2)(6x6x7, weight: 18) pos([Decimal('13'), 0, Decimal('3')]) rt(0) vol(252)\n====>  (5, 9)(8x8x4, weight: 47) pos([Decimal('13'), 0, Decimal('3')]) rt(0) vol(256)\n====>  (2, 9)(8x6x6, weight: 49) pos([Decimal('13'), 0, Decimal('3')]) rt(0) vol(288)\n====>  (5, 5)(9x5x7, weight: 38) pos([Decimal('13'), 0, Decimal('3')]) rt(0) vol(315)\n====>  (5, 2)(9x9x4, weight: 83) pos([Decimal('13'), 0, Decimal('3')]) rt(0) vol(324)\n====>  (1, 2)(8x7x9, weight: 89) pos([Decimal('13'), 0, Decimal('3')]) rt(0) vol(504)\n====>  (4, 9)(8x9x9, weight: 80) pos([Decimal('13'), 0, Decimal('3')]) rt(0) vol(648)\n**************************\n::::::::::: vehicle_2(89x71x83, max_weight:144) vol(524477)\nFITTED ITEMS:\n====>  (2, 1)(3x1x1, weight: 37) pos([0, 0, 0]) rt(0) vol(3)\n====>  (3, 9)(1x1x7, weight: 1) pos([Decimal('3'), 0, 0]) rt(0) vol(7)\n====>  (1, 9)(2x1x5, weight: 24) pos([Decimal('4'), 0, 0]) rt(0) vol(10)\n====>  (2, 5)(3x1x4, weight: 54) pos([Decimal('6'), 0, 0]) rt(0) vol(12)\n====>  (3, 3)(4x3x1, weight: 22) pos([Decimal('9'), 0, 0]) rt(0) vol(12)\n====>  (4, 1)(9x9x3, weight: 4) pos([Decimal('13'), 0, 0]) rt(0) vol(243)\nUNFITTED ITEMS:\n====>  (3, 7)(2x3x2, weight: 37) pos([Decimal('9'), 0, Decimal('1')]) rt(0) vol(12)\n====>  (3, 1)(6x1x2, weight: 51) pos([Decimal('9'), 0, Decimal('1')]) rt(0) vol(12)\n====>  (3, 2)(5x3x1, weight: 94) pos([Decimal('9'), 0, Decimal('1')]) rt(0) vol(15)\n====>  (4, 4)(4x1x5, weight: 68) pos([Decimal('9'), 0, Decimal('1')]) rt(0) vol(20)\n====>  (1, 0)(6x1x4, weight: 68) pos([Decimal('9'), 0, Decimal('1')]) rt(0) vol(24)\n====>  (1, 6)(4x6x1, weight: 83) pos([Decimal('9'), 0, Decimal('1')]) rt(0) vol(24)\n====>  (3, 4)(1x3x8, weight: 60) pos([Decimal('9'), 0, Decimal('1')]) rt(0) vol(24)\n====>  (4, 2)(3x1x9, weight: 73) pos([Decimal('9'), 0, Decimal('1')]) rt(0) vol(27)\n====>  (3, 5)(3x3x4, weight: 95) pos([Decimal('9'), 0, Decimal('1')]) rt(0) vol(36)\n====>  (4, 6)(6x1x7, weight: 62) pos([Decimal('9'), 0, Decimal('1')]) rt(0) vol(42)\n====>  (3, 6)(4x3x4, weight: 21) pos([Decimal('9'), 0, Decimal('1')]) rt(0) vol(48)\n====>  (3, 0)(2x6x4, weight: 65) pos([Decimal('9'), 0, Decimal('1')]) rt(0) vol(48)\n====>  (5, 4)(6x8x1, weight: 12) pos([Decimal('9'), 0, Decimal('1')]) rt(0) vol(48)\n====>  (4, 5)(7x9x1, weight: 25) pos([Decimal('9'), 0, Decimal('1')]) rt(0) vol(63)\n====>  (1, 7)(4x9x2, weight: 30) pos([Decimal('9'), 0, Decimal('1')]) rt(0) vol(72)\n====>  (4, 7)(4x2x9, weight: 33) pos([Decimal('9'), 0, Decimal('1')]) rt(0) vol(72)\n====>  (2, 3)(5x9x2, weight: 66) pos([Decimal('9'), 0, Decimal('1')]) rt(0) vol(90)\n====>  (2, 0)(4x3x8, weight: 29) pos([Decimal('9'), 0, Decimal('1')]) rt(0) vol(96)\n====>  (5, 1)(7x2x7, weight: 45) pos([Decimal('9'), 0, Decimal('1')]) rt(0) vol(98)\n====>  (2, 7)(5x4x5, weight: 53) pos([Decimal('9'), 0, Decimal('1')]) rt(0) vol(100)\n====>  (1, 4)(9x2x6, weight: 26) pos([Decimal('9'), 0, Decimal('1')]) rt(0) vol(108)\n====>  (4, 3)(4x9x3, weight: 53) pos([Decimal('9'), 0, Decimal('1')]) rt(0) vol(108)\n====>  (5, 6)(9x3x4, weight: 90) pos([Decimal('9'), 0, Decimal('1')]) rt(0) vol(108)\n====>  (1, 3)(2x7x8, weight: 88) pos([Decimal('9'), 0, Decimal('1')]) rt(0) vol(112)\n====>  (4, 0)(7x4x4, weight: 57) pos([Decimal('9'), 0, Decimal('1')]) rt(0) vol(112)\n====>  (5, 3)(4x7x4, weight: 87) pos([Decimal('9'), 0, Decimal('1')]) rt(0) vol(112)\n====>  (5, 8)(5x6x4, weight: 36) pos([Decimal('9'), 0, Decimal('1')]) rt(0) vol(120)\n====>  (1, 8)(4x4x8, weight: 33) pos([Decimal('9'), 0, Decimal('1')]) rt(0) vol(128)\n====>  (2, 6)(5x5x7, weight: 69) pos([Decimal('9'), 0, Decimal('1')]) rt(0) vol(175)\n====>  (1, 5)(9x5x4, weight: 81) pos([Decimal('9'), 0, Decimal('1')]) rt(0) vol(180)\n====>  (2, 8)(9x5x4, weight: 59) pos([Decimal('9'), 0, Decimal('1')]) rt(0) vol(180)\n====>  (3, 8)(7x9x3, weight: 52) pos([Decimal('9'), 0, Decimal('1')]) rt(0) vol(189)\n====>  (5, 0)(3x9x7, weight: 80) pos([Decimal('9'), 0, Decimal('1')]) rt(0) vol(189)\n====>  (1, 1)(8x4x6, weight: 37) pos([Decimal('9'), 0, Decimal('1')]) rt(0) vol(192)\n====>  (5, 7)(8x6x4, weight: 47) pos([Decimal('9'), 0, Decimal('1')]) rt(0) vol(192)\n====>  (4, 8)(5x7x6, weight: 32) pos([Decimal('9'), 0, Decimal('1')]) rt(0) vol(210)\n====>  (2, 4)(8x4x7, weight: 12) pos([Decimal('9'), 0, Decimal('1')]) rt(0) vol(224)\n====>  (2, 2)(6x6x7, weight: 18) pos([Decimal('13'), 0, Decimal('3')]) rt(0) vol(252)\n====>  (5, 9)(8x8x4, weight: 47) pos([Decimal('13'), 0, Decimal('3')]) rt(0) vol(256)\n====>  (2, 9)(8x6x6, weight: 49) pos([Decimal('13'), 0, Decimal('3')]) rt(0) vol(288)\n====>  (5, 5)(9x5x7, weight: 38) pos([Decimal('13'), 0, Decimal('3')]) rt(0) vol(315)\n====>  (5, 2)(9x9x4, weight: 83) pos([Decimal('13'), 0, Decimal('3')]) rt(0) vol(324)\n====>  (1, 2)(8x7x9, weight: 89) pos([Decimal('13'), 0, Decimal('3')]) rt(0) vol(504)\n====>  (4, 9)(8x9x9, weight: 80) pos([Decimal('13'), 0, Decimal('3')]) rt(0) vol(648)\n**************************\n"
    }
   ],
   "source": [
    "pc = loading(Container_vehicle, final_set)"
   ]
  },
  {
   "cell_type": "code",
   "execution_count": 589,
   "metadata": {
    "tags": []
   },
   "outputs": [],
   "source": [
    "# Init Population for NSGA_II\n",
    "\n",
    "alpha = np.array(historical_routes)\n",
    "\n",
    "one_prob = [1 for i in range(0, len(IT[0]))]\n",
    "alpha_s = np.array(one_prob)\n",
    "\n",
    "init_pop_route = []\n",
    "init_pop_set = []\n",
    "init_pop_pack = []\n",
    "\n",
    "for ind in range(0,100):\n",
    "    fr = findRoutPlans(alpha)\n",
    "    sp = splitCargoes(alpha_s)\n",
    "    pc = loading(Container_vehicle, sp)\n",
    "    init_pop_route.append(fp[0:3])\n",
    "    init_pop_set.append(sp)\n",
    "    init_pop_pack.append(pc)\n"
   ]
  },
  {
   "cell_type": "code",
   "execution_count": 590,
   "metadata": {
    "tags": []
   },
   "outputs": [
    {
     "output_type": "execute_result",
     "data": {
      "text/plain": "[516.7397157466168,\n 532.3861298922463,\n 587.5920752418383,\n 558.2775440678323,\n 523.72028688294,\n 575.3309649686057,\n 541.1783440721626,\n 539.7114062498231,\n 570.9377265484179,\n 571.5472196654962]"
     },
     "metadata": {},
     "execution_count": 590
    }
   ],
   "source": [
    "# Fitness Function 1\n",
    "\n",
    "F1=[]\n",
    "for pop in akjdsd:\n",
    "    F1_init=[]\n",
    "    for vehicles in range(0, len(pop)):\n",
    "        route_cost = 0\n",
    "        for i in pop[vehicles]:\n",
    "            route_cost = route_cost + dist[i]\n",
    "        F1_init.append(route_cost)\n",
    "    F1.append(sum(F1_init))\n",
    "F1"
   ]
  },
  {
   "cell_type": "code",
   "execution_count": 168,
   "metadata": {
    "tags": []
   },
   "outputs": [],
   "source": [
    "# Fitness Function 2\n",
    "\n",
    "containers_weight = [each[4] for each in Container_vehicle]\n",
    "containers_volume = [each[1]*each[2]*each[3] for each in Container_vehicle]\n",
    "\n",
    "\n",
    "total_items_weight = [item.weight for item in pc.items]\n",
    "total_items_volume = [item.get_volume() for item in pc.items]\n",
    "\n",
    "rvol_mean = sum(items_volume)/sum(containers_volume)\n",
    "rwgh_mean = sum(items_weight)/sum(containers_weight)\n",
    "\n",
    "fitted_items_weight = [item.weight for item in pc.bins[0].items]\n",
    "fitted_items_volume = [item.get_volume() for item in pc.bins[0].items]\n",
    "\n"
   ]
  },
  {
   "cell_type": "code",
   "execution_count": 169,
   "metadata": {
    "tags": []
   },
   "outputs": [],
   "source": [
    "# LP minimization module\n",
    "\n",
    "from mip import CBC\n",
    "from mip import Model, xsum, minimize, BINARY, maximize\n",
    "Sload = 10\n",
    "Qload = 10\n",
    "s = [6, 2, 3, 4, 10, 4]\n",
    "q = [10, 5, 6, 1, 8, 8]\n",
    "A = len(q)\n",
    "model = Model(sense = maximize, solver_name = CBC)\n",
    "p = [model.add_var() for k in range(0, A)]\n",
    "model.objective = maximize(xsum((s[k] + q[k]) * p[k] for k in range(0, A)))\n",
    "\n",
    "model += xsum(s[k] * p[k] for k in range(0, A)) <=Sload\n",
    "model += xsum(q[k] * p[k] for k in range(0, A)) <=Qload\n",
    "for k in range(0, A):\n",
    "    model += p[k] <=1\n",
    "model.optimize(max_seconds = 300)\n",
    "status = model.optimize()\n",
    "print(status)\n",
    "for k in range(0, A):\n",
    "    print(p[k].x)\n"
   ]
  },
  {
   "cell_type": "code",
   "execution_count": null,
   "metadata": {},
   "outputs": [],
   "source": []
  }
 ],
 "metadata": {
  "kernelspec": {
   "display_name": "Python 3.7.4 64-bit",
   "language": "python",
   "name": "python_defaultSpec_1594458333763"
  },
  "language_info": {
   "codemirror_mode": {
    "name": "ipython",
    "version": 3
   },
   "file_extension": ".py",
   "mimetype": "text/x-python",
   "name": "python",
   "nbconvert_exporter": "python",
   "pygments_lexer": "ipython3",
   "version": "3.8.2-final"
  }
 },
 "nbformat": 4,
 "nbformat_minor": 2
}