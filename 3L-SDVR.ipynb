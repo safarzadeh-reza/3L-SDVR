{
 "cells": [
  {
   "cell_type": "code",
   "execution_count": null,
   "metadata": {},
   "outputs": [],
   "source": [
    "# Creating a route planner for a road network"
   ]
  },
  {
   "cell_type": "code",
   "execution_count": 14,
   "metadata": {},
   "outputs": [],
   "source": [
    "import io\n",
    "import zipfile\n",
    "import requests\n",
    "import networkx as nx\n",
    "import numpy as np\n",
    "import pandas as pd\n"
   ]
  },
  {
   "cell_type": "code",
   "execution_count": 54,
   "metadata": {},
   "outputs": [
    {
     "output_type": "execute_result",
     "data": {
      "text/plain": "array([[0.57282504, 0.63558523, 0.40114861, 0.46858018, 0.43827547,\n        0.35924408, 0.39306071, 0.58320606, 0.57877769, 0.54593178,\n        0.6171468 , 0.63744568, 0.523626  , 0.63818139, 0.50876907,\n        0.45986858, 0.5877941 , 0.5045659 , 0.5253022 , 0.52299192],\n       [0.41311611, 0.22495257, 0.26536306, 0.4650691 , 0.35686947,\n        0.49094397, 0.30522289, 0.25687568, 0.22919641, 0.25038943,\n        0.26117939, 0.23919402, 0.27783229, 0.26810659, 0.34293058,\n        0.18088564, 0.35923711, 0.10302431, 0.30981483, 0.34067609],\n       [0.01405885, 0.1394622 , 0.33348833, 0.06635072, 0.20485506,\n        0.14981195, 0.3017164 , 0.15991826, 0.1920259 , 0.20367879,\n        0.12167381, 0.12336029, 0.19854171, 0.09371202, 0.14830035,\n        0.35924579, 0.05296878, 0.39240979, 0.16488297, 0.13633199]])"
     },
     "metadata": {},
     "execution_count": 54
    }
   ],
   "source": [
    "##################################################\n",
    "# function: dirichletSampler\n",
    "# Creates transition matrix with sampling uncertainty\n",
    "# input: matrix of raw transition counts\n",
    "# output: matrix of transition probabilities sampled from a Dirichlet for each column\n",
    "# note: add 1 to each matrix element for proper interpretation\n",
    "# of rdirichlet paramaters as param = number of successes + 1\n",
    "#------------------------------------------------- \n",
    "import tensorflow_probability as tfp\n",
    "tfd = tfp.distributions\n",
    "x = np.random.poisson(lam=5, size=(4,4))\n",
    "# def dirichletSampler():\n",
    "d = np.random.dirichlet((10, 5, 3), 20).transpose()\n",
    "s = np.random.default_rng().dirichlet((10, 5, 3), 5).transpose()\n",
    "d"
   ]
  },
  {
   "cell_type": "code",
   "execution_count": 24,
   "metadata": {
    "tags": []
   },
   "outputs": [
    {
     "output_type": "execute_result",
     "data": {
      "text/plain": "(59, 60, 24)"
     },
     "metadata": {},
     "execution_count": 24
    }
   ],
   "source": [
    "from container_packing.shortcuts import pack_products_into_restrictions\n",
    "\n",
    "\n",
    "boxes = [{\n",
    "  'x': 12,\n",
    "  'y': 13,\n",
    "  'z': 30,\n",
    "  'quantity': 2\n",
    "}, {\n",
    "  'x': 12,\n",
    "  'y': 23,\n",
    "  'z': 40,\n",
    "  'quantity': 4\n",
    "}]\n",
    "\n",
    "conataner_max_sizes = (60, 60, 90)\n",
    "\n",
    "container_x, container_y, container_z = pack_products_into_restrictions(\n",
    "    boxes,\n",
    "    conataner_max_sizes\n",
    ")\n",
    "print(container_x)\n",
    "print(container_y)\n",
    "print(container_z)"
   ]
  },
  {
   "cell_type": "code",
   "execution_count": null,
   "metadata": {},
   "outputs": [],
   "source": []
  }
 ],
 "metadata": {
  "kernelspec": {
   "display_name": "Python 3.8.2 64-bit",
   "language": "python",
   "name": "python38264bit4f22317ac3d949f1819f91816e4f28a6"
  },
  "language_info": {
   "codemirror_mode": {
    "name": "ipython",
    "version": 3
   },
   "file_extension": ".py",
   "mimetype": "text/x-python",
   "name": "python",
   "nbconvert_exporter": "python",
   "pygments_lexer": "ipython3",
   "version": "3.8.2-final"
  }
 },
 "nbformat": 4,
 "nbformat_minor": 2
}