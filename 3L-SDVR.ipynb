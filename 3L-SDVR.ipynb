{
 "cells": [
  {
   "cell_type": "code",
   "execution_count": null,
   "metadata": {},
   "outputs": [],
   "source": [
    "# Creating a route planner for a road network"
   ]
  },
  {
   "cell_type": "code",
   "execution_count": 3,
   "metadata": {},
   "outputs": [],
   "source": [
    "import io\n",
    "import zipfile\n",
    "import requests\n",
    "import networkx as nx\n",
    "import numpy as np\n",
    "import pandas as pd\n"
   ]
  },
  {
   "cell_type": "code",
   "execution_count": 17,
   "metadata": {
    "tags": []
   },
   "outputs": [],
   "source": [
    "##################################################\n",
    "# function: dirichletSampler\n",
    "# Creates transition matrix with sampling uncertainty\n",
    "# input: matrix of raw transition counts\n",
    "# output: matrix of transition probabilities sampled from a Dirichlet for each column\n",
    "# note: add 1 to each matrix element for proper interpretation\n",
    "# of rdirichlet paramaters as param = number of successes + 1\n",
    "#------------------------------------------------- \n",
    "# import tensorflow\n",
    "# import tensorflow_probability as tfp\n",
    "# tfd = tfp.distributions\n",
    "x = np.random.poisson(lam=5, size=(4,4))\n",
    "dd = np.random.default_rng().dirichlet(x).transpose()\n",
    "# # def dirichletSampler():\n",
    "d = np.random.dirichlet((10, 6, 3), 10).transpose()\n",
    "\n",
    "# s = np.random.default_rng().dirichlet((10, 5, 3), 5).transpose()\n",
    "# s"
   ]
  },
  {
   "cell_type": "code",
   "execution_count": 24,
   "metadata": {
    "tags": []
   },
   "outputs": [
    {
     "output_type": "execute_result",
     "data": {
      "text/plain": "(59, 60, 24)"
     },
     "metadata": {},
     "execution_count": 24
    }
   ],
   "source": [
    "from container_packing.shortcuts import pack_products_into_restrictions\n",
    "\n",
    "\n",
    "boxes = [{\n",
    "  'x': 12,\n",
    "  'y': 13,\n",
    "  'z': 30,\n",
    "  'quantity': 2\n",
    "}, {\n",
    "  'x': 12,\n",
    "  'y': 23,\n",
    "  'z': 40,\n",
    "  'quantity': 4\n",
    "}]\n",
    "\n",
    "conataner_max_sizes = (60, 60, 90)\n",
    "\n",
    "container_x, container_y, container_z = pack_products_into_restrictions(\n",
    "    boxes,\n",
    "    conataner_max_sizes\n",
    ")\n"
   ]
  },
  {
   "cell_type": "code",
   "execution_count": null,
   "metadata": {},
   "outputs": [],
   "source": []
  }
 ],
 "metadata": {
  "kernelspec": {
   "display_name": "Python 3.8.2 64-bit",
   "language": "python",
   "name": "python38264bit4f22317ac3d949f1819f91816e4f28a6"
  },
  "language_info": {
   "codemirror_mode": {
    "name": "ipython",
    "version": 3
   },
   "file_extension": ".py",
   "mimetype": "text/x-python",
   "name": "python",
   "nbconvert_exporter": "python",
   "pygments_lexer": "ipython3",
   "version": "3.8.2-final"
  }
 },
 "nbformat": 4,
 "nbformat_minor": 2
}